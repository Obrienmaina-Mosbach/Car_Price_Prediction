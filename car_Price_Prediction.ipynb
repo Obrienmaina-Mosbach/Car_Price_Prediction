{
 "cells": [
  {
   "metadata": {},
   "cell_type": "markdown",
   "source": [
    "# **Welcome to the Car Price Prediction Project by Brian Maina!**\n",
    "![image of a car](Assets/Images/img.png \"Car Price Prediction\")"
   ],
   "id": "27f5083efd0289c8"
  },
  {
   "metadata": {
    "ExecuteTime": {
     "end_time": "2025-06-11T08:30:47.733953Z",
     "start_time": "2025-06-11T08:30:47.731618Z"
    }
   },
   "cell_type": "code",
   "source": [
    "import pandas as pd\n",
    "from tabulate import tabulate\n",
    "import numpy as np\n",
    "import matplotlib.pyplot as plt\n",
    "import seaborn as sns\n",
    "from sklearn.model_selection import train_test_split, GridSearchCV\n",
    "from sklearn.preprocessing import StandardScaler, OneHotEncoder\n",
    "from sklearn.compose import ColumnTransformer\n",
    "from sklearn.pipeline import Pipeline\n",
    "from sklearn.feature_selection import SelectKBest, f_regression\n",
    "from sklearn.decomposition import PCA\n",
    "from sklearn.cluster import KMeans\n",
    "from sklearn.ensemble import RandomForestRegressor\n",
    "from sklearn.metrics import mean_absolute_error, mean_squared_error, r2_score\n",
    "from sklearn.impute import SimpleImputer\n"
   ],
   "id": "25af1dc590d257ba",
   "outputs": [],
   "execution_count": 2
  },
  {
   "metadata": {
    "ExecuteTime": {
     "end_time": "2025-06-11T08:30:56.013987Z",
     "start_time": "2025-06-11T08:30:55.981936Z"
    }
   },
   "cell_type": "code",
   "source": [
    "#Loading the dataset from Kaggle: https://www.kaggle.com/datasets/deepcontractor/car-price-prediction-challenge\n",
    "df = pd.read_csv('./Car_Data/car_price_prediction.csv')\n",
    "\n",
    "# Display the first few rows of the dataset\n",
    "# print(tabulate(df.head()))\n",
    "print(df.head())"
   ],
   "id": "d6bdb7104dca3fc2",
   "outputs": [
    {
     "name": "stdout",
     "output_type": "stream",
     "text": [
      "         ID  Price  Levy Manufacturer    Model  Prod. year   Category  \\\n",
      "0  45654403  13328  1399        LEXUS   RX 450        2010       Jeep   \n",
      "1  44731507  16621  1018    CHEVROLET  Equinox        2011       Jeep   \n",
      "2  45774419   8467     -        HONDA      FIT        2006  Hatchback   \n",
      "3  45769185   3607   862         FORD   Escape        2011       Jeep   \n",
      "4  45809263  11726   446        HONDA      FIT        2014  Hatchback   \n",
      "\n",
      "  Leather interior Fuel type Engine volume    Mileage  Cylinders  \\\n",
      "0              Yes    Hybrid           3.5  186005 km        6.0   \n",
      "1               No    Petrol             3  192000 km        6.0   \n",
      "2               No    Petrol           1.3  200000 km        4.0   \n",
      "3              Yes    Hybrid           2.5  168966 km        4.0   \n",
      "4              Yes    Petrol           1.3   91901 km        4.0   \n",
      "\n",
      "  Gear box type Drive wheels   Doors             Wheel   Color  Airbags  \n",
      "0     Automatic          4x4  04-May        Left wheel  Silver       12  \n",
      "1     Tiptronic          4x4  04-May        Left wheel   Black        8  \n",
      "2      Variator        Front  04-May  Right-hand drive   Black        2  \n",
      "3     Automatic          4x4  04-May        Left wheel   White        0  \n",
      "4     Automatic        Front  04-May        Left wheel  Silver        4  \n"
     ]
    }
   ],
   "execution_count": 3
  },
  {
   "metadata": {
    "ExecuteTime": {
     "end_time": "2025-06-11T08:34:15.381803Z",
     "start_time": "2025-06-11T08:34:15.373545Z"
    }
   },
   "cell_type": "code",
   "source": [
    "print(\"\\nDataset Info:\")\n",
    "print(df.info())"
   ],
   "id": "b0ba68f267dc16cb",
   "outputs": [
    {
     "name": "stdout",
     "output_type": "stream",
     "text": [
      "\n",
      "Dataset Info:\n",
      "<class 'pandas.core.frame.DataFrame'>\n",
      "RangeIndex: 19237 entries, 0 to 19236\n",
      "Data columns (total 18 columns):\n",
      " #   Column            Non-Null Count  Dtype  \n",
      "---  ------            --------------  -----  \n",
      " 0   ID                19237 non-null  int64  \n",
      " 1   Price             19237 non-null  int64  \n",
      " 2   Levy              19237 non-null  object \n",
      " 3   Manufacturer      19237 non-null  object \n",
      " 4   Model             19237 non-null  object \n",
      " 5   Prod. year        19237 non-null  int64  \n",
      " 6   Category          19237 non-null  object \n",
      " 7   Leather interior  19237 non-null  object \n",
      " 8   Fuel type         19237 non-null  object \n",
      " 9   Engine volume     19237 non-null  object \n",
      " 10  Mileage           19237 non-null  object \n",
      " 11  Cylinders         19237 non-null  float64\n",
      " 12  Gear box type     19237 non-null  object \n",
      " 13  Drive wheels      19237 non-null  object \n",
      " 14  Doors             19237 non-null  object \n",
      " 15  Wheel             19237 non-null  object \n",
      " 16  Color             19237 non-null  object \n",
      " 17  Airbags           19237 non-null  int64  \n",
      "dtypes: float64(1), int64(4), object(13)\n",
      "memory usage: 2.6+ MB\n",
      "None\n"
     ]
    }
   ],
   "execution_count": 5
  },
  {
   "metadata": {
    "ExecuteTime": {
     "end_time": "2025-06-11T08:34:47.887044Z",
     "start_time": "2025-06-11T08:34:47.876022Z"
    }
   },
   "cell_type": "code",
   "source": [
    "print(\"\\nDataset Description:\")\n",
    "print(df.describe())"
   ],
   "id": "ab422563fda44249",
   "outputs": [
    {
     "name": "stdout",
     "output_type": "stream",
     "text": [
      "\n",
      "Dataset Description:\n",
      "                 ID         Price    Prod. year     Cylinders       Airbags\n",
      "count  1.923700e+04  1.923700e+04  19237.000000  19237.000000  19237.000000\n",
      "mean   4.557654e+07  1.855593e+04   2010.912824      4.582991      6.582627\n",
      "std    9.365914e+05  1.905813e+05      5.668673      1.199933      4.320168\n",
      "min    2.074688e+07  1.000000e+00   1939.000000      1.000000      0.000000\n",
      "25%    4.569837e+07  5.331000e+03   2009.000000      4.000000      4.000000\n",
      "50%    4.577231e+07  1.317200e+04   2012.000000      4.000000      6.000000\n",
      "75%    4.580204e+07  2.207500e+04   2015.000000      4.000000     12.000000\n",
      "max    4.581665e+07  2.630750e+07   2020.000000     16.000000     16.000000\n"
     ]
    }
   ],
   "execution_count": 6
  }
 ],
 "metadata": {
  "kernelspec": {
   "display_name": "Python 3",
   "language": "python",
   "name": "python3"
  },
  "language_info": {
   "codemirror_mode": {
    "name": "ipython",
    "version": 2
   },
   "file_extension": ".py",
   "mimetype": "text/x-python",
   "name": "python",
   "nbconvert_exporter": "python",
   "pygments_lexer": "ipython2",
   "version": "2.7.6"
  }
 },
 "nbformat": 4,
 "nbformat_minor": 5
}
