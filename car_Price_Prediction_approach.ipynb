{
 "cells": [
  {
   "metadata": {},
   "cell_type": "markdown",
   "source": [
    "# **Welcome to the Car Price Prediction Project by Brian Maina!**\n",
    "![image of a car](Assets/Images/img_1.png \"Car Price Prediction\")"
   ],
   "id": "27f5083efd0289c8"
  },
  {
   "metadata": {
    "ExecuteTime": {
     "end_time": "2025-06-25T14:27:48.111675Z",
     "start_time": "2025-06-25T14:27:47.767785Z"
    }
   },
   "cell_type": "code",
   "source": [
    "import pandas as pd\n",
    "import numpy as np\n",
    "import matplotlib.pyplot as plt\n",
    "import seaborn as sns\n",
    "from sklearn.model_selection import train_test_split\n",
    "from sklearn.metrics import mean_squared_error, r2_score\n",
    "from sklearn.ensemble import RandomForestRegressor\n",
    "from sklearn.preprocessing import StandardScaler\n",
    "from sklearn.model_selection import RandomizedSearchCV\n",
    "from sklearn.feature_selection import SelectFromModel\n",
    "import xgboost as xgb\n",
    "import joblib"
   ],
   "id": "25af1dc590d257ba",
   "outputs": [],
   "execution_count": 3
  },
  {
   "metadata": {
    "ExecuteTime": {
     "end_time": "2025-06-25T14:27:49.853564Z",
     "start_time": "2025-06-25T14:27:49.767432Z"
    }
   },
   "cell_type": "code",
   "source": [
    "#Loading the dataset from Kaggle: https://www.kaggle.com/datasets/nelgiriyewithana/australian-vehicle-prices\n",
    "datasetCars = pd.read_csv('./Car_Data/Australian Vehicle Prices.csv')\n",
    "\n",
    "# Display the first five rows of the dataset\n",
    "datasetCars.head()"
   ],
   "id": "d6bdb7104dca3fc2",
   "outputs": [
    {
     "data": {
      "text/plain": [
       "           Brand    Year   Model               Car/Suv  \\\n",
       "0      Ssangyong  2022.0  Rexton  Sutherland Isuzu Ute   \n",
       "1             MG  2022.0     MG3             Hatchback   \n",
       "2            BMW  2022.0    430I                 Coupe   \n",
       "3  Mercedes-Benz  2011.0    E500                 Coupe   \n",
       "4        Renault  2022.0  Arkana                   SUV   \n",
       "\n",
       "                                       Title UsedOrNew Transmission  \\\n",
       "0       2022 Ssangyong Rexton Ultimate (awd)      DEMO    Automatic   \n",
       "1  2022 MG MG3 Auto Excite (with Navigation)      USED    Automatic   \n",
       "2                      2022 BMW 430I M Sport      USED    Automatic   \n",
       "3           2011 Mercedes-Benz E500 Elegance      USED    Automatic   \n",
       "4                 2022 Renault Arkana Intens      USED    Automatic   \n",
       "\n",
       "         Engine DriveType  FuelType FuelConsumption Kilometres   ColourExtInt  \\\n",
       "0  4 cyl, 2.2 L       AWD    Diesel  8.7 L / 100 km       5595  White / Black   \n",
       "1  4 cyl, 1.5 L     Front   Premium  6.7 L / 100 km         16  Black / Black   \n",
       "2    4 cyl, 2 L      Rear   Premium  6.6 L / 100 km       8472   Grey / White   \n",
       "3  8 cyl, 5.5 L      Rear   Premium   11 L / 100 km     136517  White / Brown   \n",
       "4  4 cyl, 1.3 L     Front  Unleaded    6 L / 100 km       1035   Grey / Black   \n",
       "\n",
       "            Location CylindersinEngine   BodyType     Doors     Seats   Price  \n",
       "0     Caringbah, NSW             4 cyl        SUV   4 Doors   7 Seats   51990  \n",
       "1     Brookvale, NSW             4 cyl  Hatchback   5 Doors   5 Seats   19990  \n",
       "2      Sylvania, NSW             4 cyl      Coupe   2 Doors   4 Seats  108988  \n",
       "3  Mount Druitt, NSW             8 cyl      Coupe   2 Doors   4 Seats   32990  \n",
       "4   Castle Hill, NSW             4 cyl        SUV   4 Doors   5 Seats   34990  "
      ],
      "text/html": [
       "<div>\n",
       "<style scoped>\n",
       "    .dataframe tbody tr th:only-of-type {\n",
       "        vertical-align: middle;\n",
       "    }\n",
       "\n",
       "    .dataframe tbody tr th {\n",
       "        vertical-align: top;\n",
       "    }\n",
       "\n",
       "    .dataframe thead th {\n",
       "        text-align: right;\n",
       "    }\n",
       "</style>\n",
       "<table border=\"1\" class=\"dataframe\">\n",
       "  <thead>\n",
       "    <tr style=\"text-align: right;\">\n",
       "      <th></th>\n",
       "      <th>Brand</th>\n",
       "      <th>Year</th>\n",
       "      <th>Model</th>\n",
       "      <th>Car/Suv</th>\n",
       "      <th>Title</th>\n",
       "      <th>UsedOrNew</th>\n",
       "      <th>Transmission</th>\n",
       "      <th>Engine</th>\n",
       "      <th>DriveType</th>\n",
       "      <th>FuelType</th>\n",
       "      <th>FuelConsumption</th>\n",
       "      <th>Kilometres</th>\n",
       "      <th>ColourExtInt</th>\n",
       "      <th>Location</th>\n",
       "      <th>CylindersinEngine</th>\n",
       "      <th>BodyType</th>\n",
       "      <th>Doors</th>\n",
       "      <th>Seats</th>\n",
       "      <th>Price</th>\n",
       "    </tr>\n",
       "  </thead>\n",
       "  <tbody>\n",
       "    <tr>\n",
       "      <th>0</th>\n",
       "      <td>Ssangyong</td>\n",
       "      <td>2022.0</td>\n",
       "      <td>Rexton</td>\n",
       "      <td>Sutherland Isuzu Ute</td>\n",
       "      <td>2022 Ssangyong Rexton Ultimate (awd)</td>\n",
       "      <td>DEMO</td>\n",
       "      <td>Automatic</td>\n",
       "      <td>4 cyl, 2.2 L</td>\n",
       "      <td>AWD</td>\n",
       "      <td>Diesel</td>\n",
       "      <td>8.7 L / 100 km</td>\n",
       "      <td>5595</td>\n",
       "      <td>White / Black</td>\n",
       "      <td>Caringbah, NSW</td>\n",
       "      <td>4 cyl</td>\n",
       "      <td>SUV</td>\n",
       "      <td>4 Doors</td>\n",
       "      <td>7 Seats</td>\n",
       "      <td>51990</td>\n",
       "    </tr>\n",
       "    <tr>\n",
       "      <th>1</th>\n",
       "      <td>MG</td>\n",
       "      <td>2022.0</td>\n",
       "      <td>MG3</td>\n",
       "      <td>Hatchback</td>\n",
       "      <td>2022 MG MG3 Auto Excite (with Navigation)</td>\n",
       "      <td>USED</td>\n",
       "      <td>Automatic</td>\n",
       "      <td>4 cyl, 1.5 L</td>\n",
       "      <td>Front</td>\n",
       "      <td>Premium</td>\n",
       "      <td>6.7 L / 100 km</td>\n",
       "      <td>16</td>\n",
       "      <td>Black / Black</td>\n",
       "      <td>Brookvale, NSW</td>\n",
       "      <td>4 cyl</td>\n",
       "      <td>Hatchback</td>\n",
       "      <td>5 Doors</td>\n",
       "      <td>5 Seats</td>\n",
       "      <td>19990</td>\n",
       "    </tr>\n",
       "    <tr>\n",
       "      <th>2</th>\n",
       "      <td>BMW</td>\n",
       "      <td>2022.0</td>\n",
       "      <td>430I</td>\n",
       "      <td>Coupe</td>\n",
       "      <td>2022 BMW 430I M Sport</td>\n",
       "      <td>USED</td>\n",
       "      <td>Automatic</td>\n",
       "      <td>4 cyl, 2 L</td>\n",
       "      <td>Rear</td>\n",
       "      <td>Premium</td>\n",
       "      <td>6.6 L / 100 km</td>\n",
       "      <td>8472</td>\n",
       "      <td>Grey / White</td>\n",
       "      <td>Sylvania, NSW</td>\n",
       "      <td>4 cyl</td>\n",
       "      <td>Coupe</td>\n",
       "      <td>2 Doors</td>\n",
       "      <td>4 Seats</td>\n",
       "      <td>108988</td>\n",
       "    </tr>\n",
       "    <tr>\n",
       "      <th>3</th>\n",
       "      <td>Mercedes-Benz</td>\n",
       "      <td>2011.0</td>\n",
       "      <td>E500</td>\n",
       "      <td>Coupe</td>\n",
       "      <td>2011 Mercedes-Benz E500 Elegance</td>\n",
       "      <td>USED</td>\n",
       "      <td>Automatic</td>\n",
       "      <td>8 cyl, 5.5 L</td>\n",
       "      <td>Rear</td>\n",
       "      <td>Premium</td>\n",
       "      <td>11 L / 100 km</td>\n",
       "      <td>136517</td>\n",
       "      <td>White / Brown</td>\n",
       "      <td>Mount Druitt, NSW</td>\n",
       "      <td>8 cyl</td>\n",
       "      <td>Coupe</td>\n",
       "      <td>2 Doors</td>\n",
       "      <td>4 Seats</td>\n",
       "      <td>32990</td>\n",
       "    </tr>\n",
       "    <tr>\n",
       "      <th>4</th>\n",
       "      <td>Renault</td>\n",
       "      <td>2022.0</td>\n",
       "      <td>Arkana</td>\n",
       "      <td>SUV</td>\n",
       "      <td>2022 Renault Arkana Intens</td>\n",
       "      <td>USED</td>\n",
       "      <td>Automatic</td>\n",
       "      <td>4 cyl, 1.3 L</td>\n",
       "      <td>Front</td>\n",
       "      <td>Unleaded</td>\n",
       "      <td>6 L / 100 km</td>\n",
       "      <td>1035</td>\n",
       "      <td>Grey / Black</td>\n",
       "      <td>Castle Hill, NSW</td>\n",
       "      <td>4 cyl</td>\n",
       "      <td>SUV</td>\n",
       "      <td>4 Doors</td>\n",
       "      <td>5 Seats</td>\n",
       "      <td>34990</td>\n",
       "    </tr>\n",
       "  </tbody>\n",
       "</table>\n",
       "</div>"
      ]
     },
     "execution_count": 4,
     "metadata": {},
     "output_type": "execute_result"
    }
   ],
   "execution_count": 4
  },
  {
   "metadata": {
    "ExecuteTime": {
     "end_time": "2025-06-25T14:27:51.480906Z",
     "start_time": "2025-06-25T14:27:51.472086Z"
    }
   },
   "cell_type": "code",
   "source": [
    "print(\"\\nDataset Info:\")\n",
    "print(datasetCars.info())"
   ],
   "id": "b0ba68f267dc16cb",
   "outputs": [
    {
     "name": "stdout",
     "output_type": "stream",
     "text": [
      "\n",
      "Dataset Info:\n",
      "<class 'pandas.core.frame.DataFrame'>\n",
      "RangeIndex: 16734 entries, 0 to 16733\n",
      "Data columns (total 19 columns):\n",
      " #   Column             Non-Null Count  Dtype  \n",
      "---  ------             --------------  -----  \n",
      " 0   Brand              16733 non-null  object \n",
      " 1   Year               16733 non-null  float64\n",
      " 2   Model              16733 non-null  object \n",
      " 3   Car/Suv            16706 non-null  object \n",
      " 4   Title              16733 non-null  object \n",
      " 5   UsedOrNew          16733 non-null  object \n",
      " 6   Transmission       16733 non-null  object \n",
      " 7   Engine             16733 non-null  object \n",
      " 8   DriveType          16733 non-null  object \n",
      " 9   FuelType           16733 non-null  object \n",
      " 10  FuelConsumption    16733 non-null  object \n",
      " 11  Kilometres         16733 non-null  object \n",
      " 12  ColourExtInt       16733 non-null  object \n",
      " 13  Location           16284 non-null  object \n",
      " 14  CylindersinEngine  16733 non-null  object \n",
      " 15  BodyType           16452 non-null  object \n",
      " 16  Doors              15130 non-null  object \n",
      " 17  Seats              15029 non-null  object \n",
      " 18  Price              16731 non-null  object \n",
      "dtypes: float64(1), object(18)\n",
      "memory usage: 2.4+ MB\n",
      "None\n"
     ]
    }
   ],
   "execution_count": 5
  },
  {
   "metadata": {
    "ExecuteTime": {
     "end_time": "2025-06-25T14:28:03.275265Z",
     "start_time": "2025-06-25T14:28:03.271308Z"
    }
   },
   "cell_type": "code",
   "source": [
    "print(\"\\nDataset Description:\")\n",
    "print(datasetCars.describe())"
   ],
   "id": "ab422563fda44249",
   "outputs": [
    {
     "name": "stdout",
     "output_type": "stream",
     "text": [
      "\n",
      "Dataset Description:\n",
      "               Year\n",
      "count  16733.000000\n",
      "mean    2016.229248\n",
      "std        5.247705\n",
      "min     1940.000000\n",
      "25%     2013.000000\n",
      "50%     2017.000000\n",
      "75%     2020.000000\n",
      "max     2023.000000\n"
     ]
    }
   ],
   "execution_count": 7
  },
  {
   "metadata": {
    "ExecuteTime": {
     "end_time": "2025-06-19T12:29:49.735605Z",
     "start_time": "2025-06-19T12:29:49.726695Z"
    }
   },
   "cell_type": "code",
   "source": [
    "# --- Remove duplicated column dropping from the top ---\n",
    "if '#' in datasetCars.columns:\n",
    "    datasetCars.drop(columns=['#'], inplace=True)\n",
    "if 'Unnamed: 0' in datasetCars.columns:\n",
    "    datasetCars.drop(columns=['Unnamed: 0'], inplace=True)\n",
    "\n",
    "\n",
    "print(\"--- Initial Dataset Loaded ---\")\n",
    "print(datasetCars.head())\n",
    "print(\"\\n--- Initial Missing Values ---\")\n",
    "print(datasetCars.isnull().sum())\n"
   ],
   "id": "d23020ec95e04489",
   "outputs": [
    {
     "name": "stdout",
     "output_type": "stream",
     "text": [
      "--- Initial Dataset Loaded ---\n",
      "           Brand    Year   Model               Car/Suv  \\\n",
      "0      Ssangyong  2022.0  Rexton  Sutherland Isuzu Ute   \n",
      "1             MG  2022.0     MG3             Hatchback   \n",
      "2            BMW  2022.0    430I                 Coupe   \n",
      "3  Mercedes-Benz  2011.0    E500                 Coupe   \n",
      "4        Renault  2022.0  Arkana                   SUV   \n",
      "\n",
      "                                       Title UsedOrNew Transmission  \\\n",
      "0       2022 Ssangyong Rexton Ultimate (awd)      DEMO    Automatic   \n",
      "1  2022 MG MG3 Auto Excite (with Navigation)      USED    Automatic   \n",
      "2                      2022 BMW 430I M Sport      USED    Automatic   \n",
      "3           2011 Mercedes-Benz E500 Elegance      USED    Automatic   \n",
      "4                 2022 Renault Arkana Intens      USED    Automatic   \n",
      "\n",
      "         Engine DriveType  FuelType FuelConsumption Kilometres   ColourExtInt  \\\n",
      "0  4 cyl, 2.2 L       AWD    Diesel  8.7 L / 100 km       5595  White / Black   \n",
      "1  4 cyl, 1.5 L     Front   Premium  6.7 L / 100 km         16  Black / Black   \n",
      "2    4 cyl, 2 L      Rear   Premium  6.6 L / 100 km       8472   Grey / White   \n",
      "3  8 cyl, 5.5 L      Rear   Premium   11 L / 100 km     136517  White / Brown   \n",
      "4  4 cyl, 1.3 L     Front  Unleaded    6 L / 100 km       1035   Grey / Black   \n",
      "\n",
      "            Location CylindersinEngine   BodyType     Doors     Seats   Price  \n",
      "0     Caringbah, NSW             4 cyl        SUV   4 Doors   7 Seats   51990  \n",
      "1     Brookvale, NSW             4 cyl  Hatchback   5 Doors   5 Seats   19990  \n",
      "2      Sylvania, NSW             4 cyl      Coupe   2 Doors   4 Seats  108988  \n",
      "3  Mount Druitt, NSW             8 cyl      Coupe   2 Doors   4 Seats   32990  \n",
      "4   Castle Hill, NSW             4 cyl        SUV   4 Doors   5 Seats   34990  \n",
      "\n",
      "--- Initial Missing Values ---\n",
      "Brand                   1\n",
      "Year                    1\n",
      "Model                   1\n",
      "Car/Suv                28\n",
      "Title                   1\n",
      "UsedOrNew               1\n",
      "Transmission            1\n",
      "Engine                  1\n",
      "DriveType               1\n",
      "FuelType                1\n",
      "FuelConsumption         1\n",
      "Kilometres              1\n",
      "ColourExtInt            1\n",
      "Location              450\n",
      "CylindersinEngine       1\n",
      "BodyType              282\n",
      "Doors                1604\n",
      "Seats                1705\n",
      "Price                   3\n",
      "dtype: int64\n"
     ]
    }
   ],
   "execution_count": 696
  },
  {
   "metadata": {
    "ExecuteTime": {
     "end_time": "2025-06-19T12:29:49.778596Z",
     "start_time": "2025-06-19T12:29:49.765172Z"
    }
   },
   "cell_type": "code",
   "source": [
    "# --- Step 1: Clean 'Price' column (removing 'POA' and converting to numeric) ---\n",
    "if 'Price' in datasetCars.columns:\n",
    "    print(\"\\n--- Cleaning 'Price' column ---\")\n",
    "    datasetCars['Price'] = datasetCars['Price'].astype(str)\n",
    "    datasetCars['Price'] = datasetCars['Price'].str.replace('POA', '', case=False, regex=False)\n",
    "    datasetCars['Price'] = datasetCars['Price'].str.replace('[$,]', '', regex=True)\n",
    "    datasetCars['Price'] = pd.to_numeric(datasetCars['Price'], errors='coerce')\n",
    "    print(\"  'Price' column cleaned and converted to numeric.\")\n",
    "    datasetCars.dropna(subset=['Price'], inplace=True)\n",
    "    print(f\"  Dropped rows with NaN in 'Price'. New shape: {datasetCars.shape}\")\n",
    "else:\n",
    "    print(\"\\nWARNING: 'Price' column not found. Skipping price cleaning.\")"
   ],
   "id": "fd175521065ecf28",
   "outputs": [
    {
     "name": "stdout",
     "output_type": "stream",
     "text": [
      "\n",
      "--- Cleaning 'Price' column ---\n",
      "  'Price' column cleaned and converted to numeric.\n",
      "  Dropped rows with NaN in 'Price'. New shape: (16681, 19)\n"
     ]
    }
   ],
   "execution_count": 697
  },
  {
   "metadata": {
    "ExecuteTime": {
     "end_time": "2025-06-19T12:29:49.880998Z",
     "start_time": "2025-06-19T12:29:49.822504Z"
    }
   },
   "cell_type": "code",
   "source": [
    "# --- Step 2: Robust Cleaning and Imputation for Numerical Columns ---\n",
    "print(\"\\n--- Cleaning and Imputing Numerical Columns ---\")\n",
    "# Removed 'CylindersinEngine' from this loop as it's better handled explicitly\n",
    "# or implicitly by 'Engine_Cylinders' created from 'Engine' column.\n",
    "numerical_cols_to_clean = ['Doors', 'Seats', 'FuelConsumption', 'Kilometres', 'Year']\n",
    "\n",
    "for col in numerical_cols_to_clean:\n",
    "    if col in datasetCars.columns:\n",
    "        datasetCars[col] = datasetCars[col].astype(str) # Convert to string for string operations\n",
    "\n",
    "        if col == 'Year':\n",
    "            datasetCars[col] = datasetCars[col].str.extract(r'(\\d{4})', expand=False)\n",
    "            print(f\"  Extracted 4-digit year for '{col}'.\")\n",
    "        elif col in ['Doors', 'Seats']:\n",
    "            datasetCars[col] = datasetCars[col].str.replace(r'\\D', '', regex=True)\n",
    "        else: # FuelConsumption, Kilometres\n",
    "            datasetCars[col] = datasetCars[col].str.replace(r'[^\\d.]', '', regex=True)\n",
    "            # Handle cases like '1.2.3' becoming '1.23'\n",
    "            datasetCars[col] = datasetCars[col].apply(lambda x: x.split('.')[0] + '.' + ''.join(x.split('.')[1:]) if '.' in str(x) and str(x).count('.') > 1 else x)\n",
    "\n",
    "\n",
    "        # Convert to numeric\n",
    "        datasetCars[col] = pd.to_numeric(datasetCars[col], errors='coerce')\n",
    "\n",
    "        if datasetCars[col].isnull().any():\n",
    "            median_val = datasetCars[col].median()\n",
    "            # If median_val is NaN (e.g., all values were unparseable), provide a robust fallback\n",
    "            if pd.isna(median_val):\n",
    "                print(f\"  WARNING: Median for '{col}' is NaN, using 0 as fallback.\")\n",
    "                median_val = 0 # Sensible fallback for most numerical cols, adjust if needed\n",
    "            datasetCars[col] = datasetCars[col].fillna(median_val)\n",
    "            print(f\"  Imputed '{col}' with median: {median_val}\")\n",
    "\n",
    "        # Ensure final integer type\n",
    "        if col in ['Doors', 'Seats', 'Year']:\n",
    "            datasetCars[col] = datasetCars[col].astype(int)\n",
    "    else:\n",
    "        print(f\"  WARNING: Numerical column '{col}' not found. Skipping.\")\n"
   ],
   "id": "fdff97f5a794d3da",
   "outputs": [
    {
     "name": "stdout",
     "output_type": "stream",
     "text": [
      "\n",
      "--- Cleaning and Imputing Numerical Columns ---\n",
      "  Imputed 'Doors' with median: 4.0\n",
      "  Imputed 'Seats' with median: 5.0\n",
      "  Imputed 'FuelConsumption' with median: 7.91\n",
      "  Imputed 'Kilometres' with median: 86114.0\n",
      "  Extracted 4-digit year for 'Year'.\n"
     ]
    }
   ],
   "execution_count": 698
  },
  {
   "metadata": {
    "ExecuteTime": {
     "end_time": "2025-06-19T12:29:49.914017Z",
     "start_time": "2025-06-19T12:29:49.911475Z"
    }
   },
   "cell_type": "code",
   "source": [
    "# Correct specific 'Doors' and 'Seats' anomalies\n",
    "if 'Doors' in datasetCars.columns:\n",
    "    datasetCars['Doors'] = np.where(datasetCars['Doors'] >= 10, 4, datasetCars['Doors'])\n",
    "    print(\"  Adjusted 'Doors' values >=10 to 4 (assuming data entry error).\")\n",
    "if 'Seats' in datasetCars.columns:\n",
    "    datasetCars['Seats'] = np.where(datasetCars['Seats'] >= 10, 5, datasetCars['Seats'])\n",
    "    print(\"  Adjusted 'Seats' values >=10 to 5 (assuming data entry error).\")\n"
   ],
   "id": "fb6534726b3bed1c",
   "outputs": [
    {
     "name": "stdout",
     "output_type": "stream",
     "text": [
      "  Adjusted 'Doors' values >=10 to 4 (assuming data entry error).\n",
      "  Adjusted 'Seats' values >=10 to 5 (assuming data entry error).\n"
     ]
    }
   ],
   "execution_count": 699
  },
  {
   "metadata": {
    "ExecuteTime": {
     "end_time": "2025-06-19T12:29:49.984530Z",
     "start_time": "2025-06-19T12:29:49.950690Z"
    }
   },
   "cell_type": "code",
   "source": [
    "# --- New Step: Clean 'Engine' and 'Model' Columns ---\n",
    "print(\"\\n--- Cleaning 'Engine', 'Model', 'Car/Suv', and 'Title' columns ---\")\n",
    "\n",
    "# 1. Process 'Engine' column: Extract cylinders and liters\n",
    "if 'Engine' in datasetCars.columns:\n",
    "    # --- Extract and clean Engine_Cylinders ---\n",
    "    # Extract number of cylinders using multiple patterns\n",
    "    temp_cylinders_str = datasetCars['Engine'].astype(str).str.extract(r'(\\d+)\\s*cyl', expand=False).fillna(\n",
    "        datasetCars['Engine'].astype(str).str.extract(r'V(\\d+)', expand=False) # for \"V6\" etc.\n",
    "    ).fillna(\n",
    "        datasetCars['Engine'].astype(str).str.extract(r'^(\\d+)$', expand=False) # for just \"4\"\n",
    "    )\n",
    "    temp_cylinders_str = temp_cylinders_str.replace('', np.nan).str.strip()\n",
    "\n",
    "    # Convert to numeric first\n",
    "    numeric_cylinders = pd.to_numeric(temp_cylinders_str, errors='coerce')\n",
    "\n",
    "    # Calculate mode ONLY from the numeric values (and handle if all are NaN)\n",
    "    if not numeric_cylinders.isnull().all():\n",
    "        mode_cylinders = numeric_cylinders.mode()[0]\n",
    "    else:\n",
    "        mode_cylinders = 4 # Common default for cars if no cylinders could be parsed\n",
    "        print(\"  WARNING: All 'Engine_Cylinders' values were unparseable, defaulting mode to 4.\")\n",
    "\n",
    "    # Fill NaNs with the calculated mode\n",
    "    datasetCars['Engine_Cylinders'] = numeric_cylinders.fillna(mode_cylinders).astype(int)\n",
    "    print(\"  Extracted and cleaned 'Engine_Cylinders'.\")\n",
    "\n",
    "\n",
    "    # --- Extract and clean Engine_Liters ---\n",
    "    # Extract engine volume in liters using multiple patterns\n",
    "    temp_liters_str = datasetCars['Engine'].astype(str).str.extract(r'(\\d+\\.?\\d*)\\s*L', expand=False).fillna(\n",
    "        datasetCars['Engine'].astype(str).str.extract(r'(\\d+\\.?\\d*)\\s*Litres', expand=False) # for \"Litres\"\n",
    "    )\n",
    "    temp_liters_str = temp_liters_str.replace('', np.nan).str.strip()\n",
    "\n",
    "    # Convert to numeric first\n",
    "    numeric_liters = pd.to_numeric(temp_liters_str, errors='coerce')\n",
    "\n",
    "    # Calculate median ONLY from the numeric values (and handle if all are NaN)\n",
    "    if not numeric_liters.isnull().all():\n",
    "        median_liters = numeric_liters.median()\n",
    "    else:\n",
    "        median_liters = 2.0 # Common default for general car engine size\n",
    "        print(\"  WARNING: All 'Engine_Liters' values were unparseable, defaulting median to 2.0.\")\n",
    "\n",
    "    # Fill NaNs with the calculated median\n",
    "    datasetCars['Engine_Liters'] = numeric_liters.fillna(median_liters)\n",
    "    print(\"  Extracted and cleaned 'Engine_Liters'.\")\n",
    "\n",
    "    # Drop the original 'Engine' column (as its info is now in Engine_Cylinders and Engine_Liters)\n",
    "    datasetCars.drop(columns=['Engine'], inplace=True)\n",
    "    print(\"  Dropped original 'Engine' column.\")\n",
    "else:\n",
    "    print(\"WARNING: 'Engine' column not found. Skipping engine feature extraction.\")\n"
   ],
   "id": "1d5ea9456c6bbde2",
   "outputs": [
    {
     "name": "stdout",
     "output_type": "stream",
     "text": [
      "\n",
      "--- Cleaning 'Engine', 'Model', 'Car/Suv', and 'Title' columns ---\n",
      "  Extracted and cleaned 'Engine_Cylinders'.\n",
      "  Extracted and cleaned 'Engine_Liters'.\n",
      "  Dropped original 'Engine' column.\n"
     ]
    }
   ],
   "execution_count": 700
  },
  {
   "metadata": {
    "ExecuteTime": {
     "end_time": "2025-06-19T12:29:50.028205Z",
     "start_time": "2025-06-19T12:29:50.016521Z"
    }
   },
   "cell_type": "code",
   "source": [
    "# Handle the original 'CylindersinEngine' column if it exists and is separate from 'Engine' derived ones\n",
    "# If 'Engine' column was processed, 'Engine_Cylinders' is likely preferred.\n",
    "# This part assumes CylindersinEngine might still be present and needs cleaning/imputation.\n",
    "if 'CylindersinEngine' in datasetCars.columns:\n",
    "    if datasetCars['CylindersinEngine'].dtype == 'object': # If it's still string/object after initial cleaning loop\n",
    "        datasetCars['CylindersinEngine'] = datasetCars['CylindersinEngine'].astype(str).str.replace(r'[^0-9.]', '', regex=True)\n",
    "\n",
    "    datasetCars['CylindersinEngine'] = pd.to_numeric(datasetCars['CylindersinEngine'], errors='coerce')\n",
    "\n",
    "    if datasetCars['CylindersinEngine'].isnull().any():\n",
    "        mode_val_cyl = datasetCars['CylindersinEngine'].mode()[0] if not datasetCars['CylindersinEngine'].isnull().all() else 4\n",
    "        datasetCars['CylindersinEngine'] = datasetCars['CylindersinEngine'].fillna(mode_val_cyl)\n",
    "        print(f\"  Imputed 'CylindersinEngine' with mode: {mode_val_cyl}\")\n",
    "    datasetCars['CylindersinEngine'] = datasetCars['CylindersinEngine'].astype(int)\n",
    "    print(\"  Cleaned and ensured 'CylindersinEngine' is integer.\")\n",
    "else:\n",
    "    print(\"  'CylindersinEngine' column not found or already handled.\")"
   ],
   "id": "6ae918a9fe509fe4",
   "outputs": [
    {
     "name": "stdout",
     "output_type": "stream",
     "text": [
      "  Imputed 'CylindersinEngine' with mode: 4.0\n",
      "  Cleaned and ensured 'CylindersinEngine' is integer.\n"
     ]
    }
   ],
   "execution_count": 701
  },
  {
   "metadata": {
    "ExecuteTime": {
     "end_time": "2025-06-19T12:29:50.062306Z",
     "start_time": "2025-06-19T12:29:50.059231Z"
    }
   },
   "cell_type": "code",
   "source": [
    "# 2. Drop the problematic 'Car/Suv' column\n",
    "if 'Car/Suv' in datasetCars.columns:\n",
    "    datasetCars.drop(columns=['Car/Suv'], inplace=True)\n",
    "    print(\"  Dropped problematic 'Car/Suv' column (using 'BodyType' instead).\")\n",
    "else:\n",
    "    print(\"  'Car/Suv' column not found or already dropped.\")"
   ],
   "id": "696d6c699e91b2c1",
   "outputs": [
    {
     "name": "stdout",
     "output_type": "stream",
     "text": [
      "  Dropped problematic 'Car/Suv' column (using 'BodyType' instead).\n"
     ]
    }
   ],
   "execution_count": 702
  },
  {
   "metadata": {
    "ExecuteTime": {
     "end_time": "2025-06-19T12:29:50.096641Z",
     "start_time": "2025-06-19T12:29:50.091587Z"
    }
   },
   "cell_type": "code",
   "source": [
    "# 3. Handle 'Model' column cardinality\n",
    "if 'Model' in datasetCars.columns:\n",
    "    top_n_models = 350 # You can adjust this number\n",
    "    top_models = datasetCars['Model'].value_counts().nlargest(top_n_models).index\n",
    "    datasetCars['Model'] = np.where(datasetCars['Model'].isin(top_models), datasetCars['Model'], 'Other_Model')\n",
    "    print(f\"  Reduced 'Model' cardinality to top {top_n_models} models + 'Other_Model'.\")\n",
    "    print(\"  New 'Model' value counts (top 5):\")\n",
    "    print(datasetCars['Model'].value_counts().head())\n",
    "else:\n",
    "    print(\"WARNING: 'Model' column not found. Skipping model cardinality reduction.\")"
   ],
   "id": "b7f6711dbd03cc72",
   "outputs": [
    {
     "name": "stdout",
     "output_type": "stream",
     "text": [
      "  Reduced 'Model' cardinality to top 350 models + 'Other_Model'.\n",
      "  New 'Model' value counts (top 5):\n",
      "Model\n",
      "Other_Model    832\n",
      "Hilux          430\n",
      "Corolla        405\n",
      "Ranger         398\n",
      "Landcruiser    370\n",
      "Name: count, dtype: int64\n"
     ]
    }
   ],
   "execution_count": 703
  },
  {
   "metadata": {
    "ExecuteTime": {
     "end_time": "2025-06-19T12:29:50.130868Z",
     "start_time": "2025-06-19T12:29:50.127745Z"
    }
   },
   "cell_type": "code",
   "source": [
    "# 4. Handle 'Title' column (usually best to drop unless specific features can be extracted)\n",
    "if 'Title' in datasetCars.columns:\n",
    "    datasetCars.drop(columns=['Title'], inplace=True)\n",
    "    print(\"  Dropped 'Title' column (assuming it's redundant/too high cardinality).\")\n",
    "else:\n",
    "    print(\"  'Title' column not found or already dropped.\")"
   ],
   "id": "1258accd0d847ad5",
   "outputs": [
    {
     "name": "stdout",
     "output_type": "stream",
     "text": [
      "  Dropped 'Title' column (assuming it's redundant/too high cardinality).\n"
     ]
    }
   ],
   "execution_count": 704
  },
  {
   "metadata": {
    "ExecuteTime": {
     "end_time": "2025-06-19T12:29:50.228613Z",
     "start_time": "2025-06-19T12:29:50.160853Z"
    }
   },
   "cell_type": "code",
   "source": [
    "# --- Step 3: Re-evaluate ColourExtInt Cleaning (new, more robust method) ---\n",
    "print(\"\\n--- Re-evaluating 'ColourExtInt' column ---\")\n",
    "\n",
    "if 'ColourExtInt' in datasetCars.columns:\n",
    "    def get_exterior_color(text):\n",
    "        text = str(text).lower().strip()\n",
    "        common_colors = ['black', 'white', 'grey', 'gray', 'silver', 'blue', 'red',\n",
    "                         'green', 'brown', 'orange', 'gold', 'beige', 'bronze',\n",
    "                         'purple', 'yellow', 'cream', 'burgundy', 'champagne', 'charcoal', 'metallic']\n",
    "        for color in common_colors:\n",
    "            if text.startswith(color) or f\"{color} /\" in text:\n",
    "                return color.capitalize()\n",
    "        if '/' in text:\n",
    "            ext_part = text.split('/')[0].strip()\n",
    "            for color in common_colors:\n",
    "                if color in ext_part:\n",
    "                    return color.capitalize()\n",
    "        return 'Other/Unknown'\n",
    "\n",
    "    def get_interior_info(text):\n",
    "        text = str(text).lower().strip()\n",
    "        interior_material = 'Other/Unknown Material' # Initialize here\n",
    "\n",
    "        # Broader Leather/Premium Material\n",
    "        if any(keyword in text for keyword in ['leather', 'nappa', 'alcantara', 'suede', 'dinamica', 'sensatec',\n",
    "                                               'faux leather', 'leatherette', 'vinyl', 'pleather', 'premium',\n",
    "                                               'perforated', 'merino', 'lounge']):\n",
    "            interior_material = 'Leather/Premium Material'\n",
    "        # Broader Cloth/Fabric\n",
    "        elif any(keyword in text for keyword in ['cloth', 'fabric', 'velour', 'textile', 'woven', 'nylon', 'polyester', 'tweed']):\n",
    "            interior_material = 'Cloth'\n",
    "\n",
    "        interior_color = 'Unknown' # Initialize here, moved from incorrect spot\n",
    "\n",
    "        interior_colors = ['black', 'white', 'grey', 'gray', 'silver', 'blue', 'red',\n",
    "                           'green', 'brown', 'orange', 'gold', 'beige', 'cream', 'tan',\n",
    "                           'charcoal', 'ebony', 'macchiato', 'truffle', 'cognac', 'titanium',\n",
    "                           'off-white', 'ivory', 'saddle', 'chocolate', 'mocha', 'platinum',\n",
    "                           'ash', 'stone', 'burgundy', 'navy', 'terra', 'espresso', 'oyster']\n",
    "        if '/' in text:\n",
    "            int_part = text.split('/')[1].strip() # Changed from [-1] to [1] for consistency after split\n",
    "            for color in interior_colors:\n",
    "                if color in int_part:\n",
    "                    interior_color = color.capitalize()\n",
    "                    break\n",
    "        if interior_color == 'Unknown':\n",
    "            ext_col = get_exterior_color(text).lower() # Call the external function\n",
    "            for color in interior_colors:\n",
    "                if color in text and color != ext_col:\n",
    "                    interior_color = color.capitalize()\n",
    "                    break\n",
    "        return interior_material, interior_color\n",
    "\n",
    "\n",
    "    datasetCars['Exterior_Color'] = datasetCars['ColourExtInt'].apply(get_exterior_color)\n",
    "    datasetCars['Interior_Material'], datasetCars['Interior_Color'] = zip(*datasetCars['ColourExtInt'].apply(get_interior_info))\n",
    "\n",
    "    datasetCars.drop(columns=['ColourExtInt'], inplace=True)\n",
    "    print(\"  'ColourExtInt' replaced with 'Exterior_Color', 'Interior_Material', 'Interior_Color'.\")\n",
    "    print(\"  New 'Exterior_Color' value counts (top 5):\")\n",
    "    print(datasetCars['Exterior_Color'].value_counts().head())\n",
    "    print(\"\\n  New 'Interior_Material' value counts:\")\n",
    "    print(datasetCars['Interior_Material'].value_counts())\n",
    "    print(\"\\n  New 'Interior_Color' value counts (top 5):\")\n",
    "    print(datasetCars['Interior_Color'].value_counts().head())\n",
    "else:\n",
    "    print(\"\\nWARNING: 'ColourExtInt' column not found. Skipping detailed color cleaning.\")\n",
    "\n",
    "# --- Step 4: Impute Other Categorical Columns with Mode ---\n",
    "print(\"\\n--- Imputing Other Categorical Columns with Mode ---\")\n",
    "# Exclude columns that are dropped or handled specifically\n",
    "categorical_cols_to_impute_mode = [\n",
    "    'BodyType', 'Brand', 'Transmission', 'DriveType', 'FuelType', 'UsedOrNew', 'Location'\n",
    "]\n",
    "\n",
    "for col in categorical_cols_to_impute_mode:\n",
    "    if col in datasetCars.columns and datasetCars[col].isnull().any():\n",
    "        mode_val = datasetCars[col].mode()[0]\n",
    "        datasetCars[col] = datasetCars[col].fillna(mode_val)\n",
    "        print(f\"  Imputed '{col}' with mode: '{mode_val}'\")\n",
    "    elif col not in datasetCars.columns:\n",
    "        print(f\"  WARNING: Categorical column '{col}' not found. Skipping.\")"
   ],
   "id": "812e1f4c6f974bd9",
   "outputs": [
    {
     "name": "stdout",
     "output_type": "stream",
     "text": [
      "\n",
      "--- Re-evaluating 'ColourExtInt' column ---\n",
      "  'ColourExtInt' replaced with 'Exterior_Color', 'Interior_Material', 'Interior_Color'.\n",
      "  New 'Exterior_Color' value counts (top 5):\n",
      "Exterior_Color\n",
      "White     5964\n",
      "Silver    2308\n",
      "Grey      2257\n",
      "Black     1937\n",
      "Blue      1572\n",
      "Name: count, dtype: int64\n",
      "\n",
      "  New 'Interior_Material' value counts:\n",
      "Interior_Material\n",
      "Other/Unknown Material      15117\n",
      "Leather/Premium Material      853\n",
      "Cloth                         711\n",
      "Name: count, dtype: int64\n",
      "\n",
      "  New 'Interior_Color' value counts (top 5):\n",
      "Interior_Color\n",
      "Unknown     8991\n",
      "Black       5655\n",
      "Grey        1592\n",
      "Beige        135\n",
      "Charcoal      55\n",
      "Name: count, dtype: int64\n",
      "\n",
      "--- Imputing Other Categorical Columns with Mode ---\n",
      "  Imputed 'BodyType' with mode: 'SUV'\n",
      "  Imputed 'Location' with mode: 'Minchinbury, NSW'\n"
     ]
    }
   ],
   "execution_count": 705
  },
  {
   "metadata": {
    "ExecuteTime": {
     "end_time": "2025-06-19T12:29:50.274608Z",
     "start_time": "2025-06-19T12:29:50.259268Z"
    }
   },
   "cell_type": "code",
   "source": [
    "# --- Final Verification: Missing Values AFTER ALL Imputation ---\n",
    "print(\"\\n--- Missing Values AFTER ALL Imputation ---\")\n",
    "remaining_nans = datasetCars.isnull().sum()[datasetCars.isnull().sum() > 0]\n",
    "if remaining_nans.empty:\n",
    "    print(\"No missing values remaining in the dataset.\")\n",
    "else:\n",
    "    print(remaining_nans)\n",
    "\n",
    "# Optional: Display info and head of cleaned data\n",
    "print(\"\\n--- Cleaned Dataset Info ---\")\n",
    "datasetCars.info()\n",
    "print(\"\\n--- Cleaned Dataset Head ---\")\n",
    "print(datasetCars.head())"
   ],
   "id": "9cf73fcc2ca21c9a",
   "outputs": [
    {
     "name": "stdout",
     "output_type": "stream",
     "text": [
      "\n",
      "--- Missing Values AFTER ALL Imputation ---\n",
      "No missing values remaining in the dataset.\n",
      "\n",
      "--- Cleaned Dataset Info ---\n",
      "<class 'pandas.core.frame.DataFrame'>\n",
      "Index: 16681 entries, 0 to 16733\n",
      "Data columns (total 20 columns):\n",
      " #   Column             Non-Null Count  Dtype  \n",
      "---  ------             --------------  -----  \n",
      " 0   Brand              16681 non-null  object \n",
      " 1   Year               16681 non-null  int64  \n",
      " 2   Model              16681 non-null  object \n",
      " 3   UsedOrNew          16681 non-null  object \n",
      " 4   Transmission       16681 non-null  object \n",
      " 5   DriveType          16681 non-null  object \n",
      " 6   FuelType           16681 non-null  object \n",
      " 7   FuelConsumption    16681 non-null  float64\n",
      " 8   Kilometres         16681 non-null  float64\n",
      " 9   Location           16681 non-null  object \n",
      " 10  CylindersinEngine  16681 non-null  int64  \n",
      " 11  BodyType           16681 non-null  object \n",
      " 12  Doors              16681 non-null  int64  \n",
      " 13  Seats              16681 non-null  int64  \n",
      " 14  Price              16681 non-null  float64\n",
      " 15  Engine_Cylinders   16681 non-null  int64  \n",
      " 16  Engine_Liters      16681 non-null  float64\n",
      " 17  Exterior_Color     16681 non-null  object \n",
      " 18  Interior_Material  16681 non-null  object \n",
      " 19  Interior_Color     16681 non-null  object \n",
      "dtypes: float64(4), int64(5), object(11)\n",
      "memory usage: 2.7+ MB\n",
      "\n",
      "--- Cleaned Dataset Head ---\n",
      "           Brand  Year        Model UsedOrNew Transmission DriveType  \\\n",
      "0      Ssangyong  2022       Rexton      DEMO    Automatic       AWD   \n",
      "1             MG  2022          MG3      USED    Automatic     Front   \n",
      "2            BMW  2022  Other_Model      USED    Automatic      Rear   \n",
      "3  Mercedes-Benz  2011  Other_Model      USED    Automatic      Rear   \n",
      "4        Renault  2022       Arkana      USED    Automatic     Front   \n",
      "\n",
      "   FuelType  FuelConsumption  Kilometres           Location  \\\n",
      "0    Diesel             8.71      5595.0     Caringbah, NSW   \n",
      "1   Premium             6.71        16.0     Brookvale, NSW   \n",
      "2   Premium             6.61      8472.0      Sylvania, NSW   \n",
      "3   Premium         11100.00    136517.0  Mount Druitt, NSW   \n",
      "4  Unleaded          6100.00      1035.0   Castle Hill, NSW   \n",
      "\n",
      "   CylindersinEngine   BodyType  Doors  Seats     Price  Engine_Cylinders  \\\n",
      "0                  4        SUV      4      7   51990.0                 4   \n",
      "1                  4  Hatchback      5      5   19990.0                 4   \n",
      "2                  4      Coupe      2      4  108988.0                 4   \n",
      "3                  8      Coupe      2      4   32990.0                 8   \n",
      "4                  4        SUV      4      5   34990.0                 4   \n",
      "\n",
      "   Engine_Liters Exterior_Color       Interior_Material Interior_Color  \n",
      "0            2.2          White  Other/Unknown Material          Black  \n",
      "1            1.5          Black  Other/Unknown Material          Black  \n",
      "2            2.0           Grey  Other/Unknown Material          White  \n",
      "3            5.5          White  Other/Unknown Material          Brown  \n",
      "4            1.3           Grey  Other/Unknown Material          Black  \n"
     ]
    }
   ],
   "execution_count": 706
  },
  {
   "metadata": {
    "ExecuteTime": {
     "end_time": "2025-06-19T12:29:50.327668Z",
     "start_time": "2025-06-19T12:29:50.304622Z"
    }
   },
   "cell_type": "code",
   "source": [
    "unique_values = {}\n",
    "\n",
    "# List of categorical columns used in your model\n",
    "# Ensure these match the 'categorical_cols' list in your Streamlit app\n",
    "categorical_cols_for_app = [\n",
    "    'Brand', 'Transmission', 'UsedOrNew', 'Model',\n",
    "    'Exterior_Color', 'Interior_Material', 'Interior_Color',\n",
    "    'Location', 'BodyType', 'DriveType', 'FuelType'\n",
    "]\n",
    "\n",
    "for col in categorical_cols_for_app:\n",
    "    if col in datasetCars.columns: # Use datasetCars (or your dataframe variable before OHE)\n",
    "        unique_values[col] = sorted(datasetCars[col].dropna().unique().tolist()) # Store sorted unique values\n",
    "\n",
    "        # Define a default for unseen categories (important for the app)\n",
    "        if col == 'Model':\n",
    "            # If you applied a 'top_n_models' logic, ensure 'Other_Model' is a default\n",
    "            unique_values[f\"{col}_default\"] = 'Other_Model'\n",
    "        elif col in ['Exterior_Color', 'Interior_Material', 'Interior_Color']:\n",
    "            unique_values[f\"{col}_default\"] = 'Other/Unknown' # Or 'Unknown', 'Other/Unknown Material'\n",
    "        else:\n",
    "            # For other categorical columns, use the most frequent value (mode) as default\n",
    "            if not datasetCars[col].empty:\n",
    "                unique_values[f\"{col}_default\"] = datasetCars[col].mode()[0]\n",
    "            else:\n",
    "                unique_values[f\"{col}_default\"] = 'Unknown' # Fallback if column is empty\n",
    "\n",
    "\n",
    "# Special handling for Model by Brand for filtered dropdowns in the app\n",
    "# This creates a dictionary where keys are brands and values are lists of models for that brand\n",
    "if 'Brand' in datasetCars.columns and 'Model' in datasetCars.columns:\n",
    "    # Filter out NaN models and ensure 'Other_Model' is considered if applicable\n",
    "    model_by_brand_data = datasetCars.dropna(subset=['Brand', 'Model'])\n",
    "    unique_values['Model_by_Brand'] = model_by_brand_data.groupby('Brand')['Model'] \\\n",
    "        .apply(lambda x: sorted(x.unique().tolist())).to_dict()\n",
    "\n",
    "    # Ensure 'Other_Model' is added to brand-specific lists if it exists in the overall model list\n",
    "    if 'Other_Model' in unique_values.get('Model', []):\n",
    "        for brand_key in unique_values['Model_by_Brand']:\n",
    "            if 'Other_Model' not in unique_values['Model_by_Brand'][brand_key]:\n",
    "                unique_values['Model_by_Brand'][brand_key].append('Other_Model')\n",
    "                unique_values['Model_by_Brand'][brand_key].sort()\n",
    "\n",
    "# Save the dictionary of unique values\n",
    "joblib.dump(unique_values, 'unique_values.joblib')\n",
    "print(\"  Unique categorical values and mappings saved as 'unique_values.joblib'.\")"
   ],
   "id": "282db4fd301b1d4b",
   "outputs": [
    {
     "name": "stdout",
     "output_type": "stream",
     "text": [
      "  Unique categorical values and mappings saved as 'unique_values.joblib'.\n"
     ]
    }
   ],
   "execution_count": 707
  },
  {
   "metadata": {
    "ExecuteTime": {
     "end_time": "2025-06-19T12:29:50.360763Z",
     "start_time": "2025-06-19T12:29:50.359339Z"
    }
   },
   "cell_type": "code",
   "source": [
    "# --- Define Numerical and Categorical Columns for Encoding/Scaling ---\n",
    "# These lists define how columns will be treated moving forward\n",
    "numerical_features = [\n",
    "    'Year', 'Kilometres', 'CylindersinEngine', 'Doors', 'Seats', 'FuelConsumption', 'Engine_Cylinders', 'Engine_Liters'\n",
    "]\n"
   ],
   "id": "b8ed802a3398ddb1",
   "outputs": [],
   "execution_count": 708
  },
  {
   "metadata": {
    "ExecuteTime": {
     "end_time": "2025-06-19T12:29:50.405749Z",
     "start_time": "2025-06-19T12:29:50.389673Z"
    }
   },
   "cell_type": "code",
   "source": [
    "# Define categorical columns for one-hot encoding\n",
    "categorical_cols = [\n",
    "    'Brand', 'Transmission', 'UsedOrNew', 'Model',\n",
    "    'Exterior_Color', 'Interior_Material', 'Interior_Color',\n",
    "    'Location', 'BodyType', 'DriveType', 'FuelType'\n",
    "]\n",
    "\n",
    "# Apply one-hot encoding\n",
    "df_encoded = pd.get_dummies(datasetCars, columns=categorical_cols, drop_first=True)\n",
    "\n",
    "print(\"\\n--- Data Head after One-Hot Encoding ---\")\n",
    "print(df_encoded.head())"
   ],
   "id": "4097ac5779380ba",
   "outputs": [
    {
     "name": "stdout",
     "output_type": "stream",
     "text": [
      "\n",
      "--- Data Head after One-Hot Encoding ---\n",
      "   Year  FuelConsumption  Kilometres  CylindersinEngine  Doors  Seats  \\\n",
      "0  2022             8.71      5595.0                  4      4      7   \n",
      "1  2022             6.71        16.0                  4      5      5   \n",
      "2  2022             6.61      8472.0                  4      2      4   \n",
      "3  2011         11100.00    136517.0                  8      2      4   \n",
      "4  2022          6100.00      1035.0                  4      4      5   \n",
      "\n",
      "      Price  Engine_Cylinders  Engine_Liters  Brand_Alfa  ...  \\\n",
      "0   51990.0                 4            2.2       False  ...   \n",
      "1   19990.0                 4            1.5       False  ...   \n",
      "2  108988.0                 4            2.0       False  ...   \n",
      "3   32990.0                 8            5.5       False  ...   \n",
      "4   34990.0                 4            1.3       False  ...   \n",
      "\n",
      "   DriveType_Other  DriveType_Rear  FuelType_Diesel  FuelType_Electric  \\\n",
      "0            False           False             True              False   \n",
      "1            False           False            False              False   \n",
      "2            False            True            False              False   \n",
      "3            False            True            False              False   \n",
      "4            False           False            False              False   \n",
      "\n",
      "   FuelType_Hybrid  FuelType_LPG  FuelType_Leaded  FuelType_Other  \\\n",
      "0            False         False            False           False   \n",
      "1            False         False            False           False   \n",
      "2            False         False            False           False   \n",
      "3            False         False            False           False   \n",
      "4            False         False            False           False   \n",
      "\n",
      "   FuelType_Premium  FuelType_Unleaded  \n",
      "0             False              False  \n",
      "1              True              False  \n",
      "2              True              False  \n",
      "3              True              False  \n",
      "4             False               True  \n",
      "\n",
      "[5 rows x 1110 columns]\n"
     ]
    }
   ],
   "execution_count": 709
  },
  {
   "metadata": {
    "ExecuteTime": {
     "end_time": "2025-06-19T12:29:50.442904Z",
     "start_time": "2025-06-19T12:29:50.437544Z"
    }
   },
   "cell_type": "code",
   "source": [
    "# --- DEFINE X AND Y ---\n",
    "# Ensure 'Title' and 'Car/Suv' are removed if they still exist (they should have been dropped)\n",
    "X = df_encoded.drop(columns=['Price'], errors='ignore')\n",
    "\n",
    "# Check if 'Title' or 'Car/Suv' columns still exist in X and drop if so (just in case previous steps failed)\n",
    "if 'Title' in X.columns:\n",
    "    X = X.drop(columns=['Title'])\n",
    "    print(\"Dropped 'Title' from X as it was not removed previously.\")\n",
    "if 'Car/Suv' in X.columns:\n",
    "    X = X.drop(columns=['Car/Suv'])\n",
    "    print(\"Dropped 'Car/Suv' from X as it was not removed previously.\")\n",
    "\n",
    "\n",
    "y = df_encoded['Price']\n",
    "original_feature_names = X.columns.tolist()\n",
    "\n",
    "\n",
    "print(f\"\\n--- Features (X) Selected ---\")\n",
    "print(X.columns.tolist())"
   ],
   "id": "745b030e2fff0392",
   "outputs": [
    {
     "name": "stdout",
     "output_type": "stream",
     "text": [
      "\n",
      "--- Features (X) Selected ---\n",
      "['Year', 'FuelConsumption', 'Kilometres', 'CylindersinEngine', 'Doors', 'Seats', 'Engine_Cylinders', 'Engine_Liters', 'Brand_Alfa', 'Brand_Aston', 'Brand_Audi', 'Brand_BMW', 'Brand_BYD', 'Brand_Bentley', 'Brand_Caterham', 'Brand_Chery', 'Brand_Chevrolet', 'Brand_Chrysler', 'Brand_Citroen', 'Brand_Cupra', 'Brand_Daewoo', 'Brand_Daihatsu', 'Brand_Datsun', 'Brand_Dodge', 'Brand_FPV', 'Brand_Ferrari', 'Brand_Fiat', 'Brand_Ford', 'Brand_Foton', 'Brand_GWM', 'Brand_Geely', 'Brand_Genesis', 'Brand_Great', 'Brand_HSV', 'Brand_Haval', 'Brand_Hino', 'Brand_Holden', 'Brand_Honda', 'Brand_Hummer', 'Brand_Hyundai', 'Brand_Ineos', 'Brand_Infiniti', 'Brand_International', 'Brand_Isuzu', 'Brand_Iveco', 'Brand_Jaguar', 'Brand_Jeep', 'Brand_Kia', 'Brand_LDV', 'Brand_Lamborghini', 'Brand_Land', 'Brand_Lexus', 'Brand_Lotus', 'Brand_MG', 'Brand_Mahindra', 'Brand_Maserati', 'Brand_Mazda', 'Brand_McLaren', 'Brand_Mercedes-Benz', 'Brand_Mini', 'Brand_Mitsubishi', 'Brand_Nissan', 'Brand_Opel', 'Brand_Packard', 'Brand_Peugeot', 'Brand_Polestar', 'Brand_Porsche', 'Brand_Proton', 'Brand_Ram', 'Brand_Renault', 'Brand_Rolls-Royce', 'Brand_Rover', 'Brand_Saab', 'Brand_Skoda', 'Brand_Smart', 'Brand_Ssangyong', 'Brand_Subaru', 'Brand_Suzuki', 'Brand_Tata', 'Brand_Tesla', 'Brand_Toyota', 'Brand_Volkswagen', 'Brand_Volvo', 'Transmission_Automatic', 'Transmission_Manual', 'UsedOrNew_NEW', 'UsedOrNew_USED', 'Model_1500', 'Model_2', 'Model_2008', 'Model_218I', 'Model_220I', 'Model_3', 'Model_300', 'Model_3008', 'Model_308', 'Model_320D', 'Model_320I', 'Model_328I', 'Model_330I', 'Model_370Z', 'Model_3D', 'Model_420I', 'Model_5', 'Model_500', 'Model_5D', 'Model_6', 'Model_718', 'Model_740I', 'Model_86', 'Model_911', 'Model_A1', 'Model_A180', 'Model_A200', 'Model_A250', 'Model_A3', 'Model_A4', 'Model_A45', 'Model_A5', 'Model_A6', 'Model_ASX', 'Model_Acadia', 'Model_Accent', 'Model_Accord', 'Model_Alphard', 'Model_Alto', 'Model_Amarok', 'Model_Arkana', 'Model_Arteon', 'Model_Astra', 'Model_Aurion', 'Model_B200', 'Model_BRZ', 'Model_BT-50', 'Model_Baleno', 'Model_Barina', 'Model_Berlingo', 'Model_Boxster', 'Model_C-CLASS', 'Model_C-HR', 'Model_C180', 'Model_C200', 'Model_C250', 'Model_C300', 'Model_C43', 'Model_C63', 'Model_CLA', 'Model_CLA200', 'Model_CLA250', 'Model_CLA45', 'Model_CLC200', 'Model_CR-V', 'Model_CT200H', 'Model_CX-3', 'Model_CX-30', 'Model_CX-5', 'Model_CX-7', 'Model_CX-8', 'Model_CX-9', 'Model_Caddy', 'Model_Calais', 'Model_Camry', 'Model_Caprice', 'Model_Captiva', 'Model_Captur', 'Model_Caravan', 'Model_Carnival', 'Model_Cayenne', 'Model_Cerato', 'Model_Challenger', 'Model_Cherokee', 'Model_City', 'Model_Civic', 'Model_Clio', 'Model_Clubman', 'Model_Clubsport', 'Model_Colorado', 'Model_Commodore', 'Model_Compass', 'Model_Continental', 'Model_Convertible', 'Model_Cooper', 'Model_Corolla', 'Model_Corvette', 'Model_Countryman', 'Model_Crafter', 'Model_Crewman', 'Model_Crown', 'Model_Cruze', 'Model_Cube', 'Model_D-MAX', 'Model_D90', 'Model_Daily', 'Model_Delica', 'Model_Deliver', 'Model_Dualis', 'Model_Ducato', 'Model_E-Pace', 'Model_E-Tron', 'Model_E200', 'Model_E250', 'Model_E350', 'Model_E400', 'Model_EOS', 'Model_ES250', 'Model_ES300H', 'Model_Echo', 'Model_Eclipse', 'Model_Ecosport', 'Model_Elantra', 'Model_Elgrand', 'Model_Endura', 'Model_Equinox', 'Model_Escape', 'Model_Estima', 'Model_Eurocargo', 'Model_Everest', 'Model_Express', 'Model_F', 'Model_F-Pace', 'Model_F-Type', 'Model_FJ', 'Model_FRR', 'Model_Fabia', 'Model_Falcon', 'Model_Fiesta', 'Model_Fit', 'Model_Focus', 'Model_Forester', 'Model_Fortuner', 'Model_Freemont', 'Model_G10', 'Model_G10+', 'Model_GLA180', 'Model_GLA250', 'Model_GLA45', 'Model_GLC', 'Model_GLC200', 'Model_GLC250', 'Model_GLC63', 'Model_GLE', 'Model_GLE350', 'Model_GR', 'Model_Getz', 'Model_Gladiator', 'Model_Golf', 'Model_Grand', 'Model_Granturismo', 'Model_H2', 'Model_H9', 'Model_HR-V', 'Model_HS', 'Model_Haval', 'Model_HiAce', 'Model_Hiace', 'Model_Hijet', 'Model_Hilux', 'Model_I20', 'Model_I30', 'Model_I40', 'Model_I45', 'Model_IS200T', 'Model_IS250', 'Model_IS300H', 'Model_IS350', 'Model_IX35', 'Model_Ignis', 'Model_Iload', 'Model_Imax', 'Model_Impreza', 'Model_Jazz', 'Model_Jetta', 'Model_Jimny', 'Model_Jolion', 'Model_Journey', 'Model_Juke', 'Model_Kamiq', 'Model_Kangoo', 'Model_Karoq', 'Model_Kluger', 'Model_Kodiaq', 'Model_Koleos', 'Model_Kona', 'Model_Korando', 'Model_Kuga', 'Model_Lancer', 'Model_Land', 'Model_Landcruiser', 'Model_Leaf', 'Model_Liberty', 'Model_M2', 'Model_M3', 'Model_M5', 'Model_MG3', 'Model_ML250', 'Model_ML350', 'Model_MU-X', 'Model_MX-5', 'Model_Macan', 'Model_Martin', 'Model_Master', 'Model_Maxima', 'Model_Megane', 'Model_Micra', 'Model_Mirage', 'Model_Model', 'Model_Mondeo', 'Model_Multivan', 'Model_Murano', 'Model_Musso', 'Model_Mustang', 'Model_NX', 'Model_NX200T', 'Model_NX300', 'Model_Navara', 'Model_Niro', 'Model_Note', 'Model_Octavia', 'Model_Odyssey', 'Model_Omoda5', 'Model_Optima', 'Model_Other', 'Model_Other_Model', 'Model_Outback', 'Model_Outlander', 'Model_PIK-UP', 'Model_Pajero', 'Model_Palisade', 'Model_Panamera', 'Model_Passat', 'Model_Pathfinder', 'Model_Patriot', 'Model_Patrol', 'Model_Picanto', 'Model_Polo', 'Model_Prius', 'Model_Pulsar', 'Model_Puma', 'Model_Q2', 'Model_Q3', 'Model_Q5', 'Model_Q7', 'Model_Q8', 'Model_Qashqai', 'Model_RAV4', 'Model_RC350', 'Model_RIO', 'Model_RS', 'Model_RX', 'Model_RX350', 'Model_RX450H', 'Model_Ranger', 'Model_Rav', 'Model_Rexton', 'Model_Rodeo', 'Model_Romeo', 'Model_Rover', 'Model_S-Class', 'Model_S-Cross', 'Model_S3', 'Model_S4', 'Model_S450', 'Model_S5', 'Model_S60', 'Model_SQ5', 'Model_SX4', 'Model_Santa', 'Model_Scala', 'Model_Seltos', 'Model_Serena', 'Model_Silverado', 'Model_Skyline', 'Model_Sonata', 'Model_Sorento', 'Model_Sportage', 'Model_Sprinter', 'Model_Statesman', 'Model_Stinger', 'Model_Stonic', 'Model_Stralis', 'Model_Superb', 'Model_Supra', 'Model_Swift', 'Model_T-Cross', 'Model_T-ROC', 'Model_T60', 'Model_TT', 'Model_Tank', 'Model_Tarago', 'Model_Taycan', 'Model_Terracan', 'Model_Territory', 'Model_Tiguan', 'Model_Tiida', 'Model_Touareg', 'Model_Trafic', 'Model_Trailblazer', 'Model_Transit', 'Model_Transporter', 'Model_Trax', 'Model_Tribeca', 'Model_Tribute', 'Model_Triton', 'Model_Trucks', 'Model_Tucson', 'Model_UTE', 'Model_UX200', 'Model_Ute', 'Model_V40', 'Model_V80', 'Model_Vellfire', 'Model_Veloster', 'Model_Venue', 'Model_Vezel', 'Model_Vitara', 'Model_Vito', 'Model_Voxy', 'Model_WRX', 'Model_Wall', 'Model_Wrangler', 'Model_X-Trail', 'Model_X1', 'Model_X2', 'Model_X3', 'Model_X4', 'Model_X5', 'Model_X6', 'Model_XC40', 'Model_XC60', 'Model_XC90', 'Model_XE', 'Model_XF', 'Model_XV', 'Model_Xc', 'Model_Yaris', 'Model_ZS', 'Model_ZST', 'Exterior_Color_Black', 'Exterior_Color_Blue', 'Exterior_Color_Bronze', 'Exterior_Color_Brown', 'Exterior_Color_Burgundy', 'Exterior_Color_Cream', 'Exterior_Color_Gold', 'Exterior_Color_Green', 'Exterior_Color_Grey', 'Exterior_Color_Orange', 'Exterior_Color_Other/Unknown', 'Exterior_Color_Purple', 'Exterior_Color_Red', 'Exterior_Color_Silver', 'Exterior_Color_White', 'Exterior_Color_Yellow', 'Interior_Material_Leather/Premium Material', 'Interior_Material_Other/Unknown Material', 'Interior_Color_Black', 'Interior_Color_Blue', 'Interior_Color_Brown', 'Interior_Color_Burgundy', 'Interior_Color_Charcoal', 'Interior_Color_Cognac', 'Interior_Color_Cream', 'Interior_Color_Ebony', 'Interior_Color_Gray', 'Interior_Color_Grey', 'Interior_Color_Ivory', 'Interior_Color_Red', 'Interior_Color_Silver', 'Interior_Color_Tan', 'Interior_Color_Unknown', 'Interior_Color_White', 'Location_Adamstown, NSW', 'Location_Adelaide, SA', 'Location_Albert Park, SA', 'Location_Albion Park Rail, NSW', 'Location_Albion Park, NSW', 'Location_Albion, QLD', 'Location_Alexandra Headland, QLD', 'Location_Alexandria, NSW', 'Location_Allenstown, QLD', 'Location_Alphington, VIC', 'Location_Altona North, VIC', 'Location_Ararat, VIC', 'Location_Archerfield, QLD', 'Location_Armidale, NSW', 'Location_Arncliffe, NSW', 'Location_Artarmon, NSW', 'Location_Arundel, QLD', 'Location_Ashfield, NSW', 'Location_Ashmore, QLD', 'Location_Aspley, QLD', 'Location_Attadale, WA', 'Location_Auburn, NSW', 'Location_Avondale Heights, VIC', 'Location_BAYSWATER NORTH, VIC', 'Location_Bacchus Marsh, VIC', 'Location_Bairnsdale, VIC', 'Location_Balcatta, WA', 'Location_Ballarat, VIC', 'Location_Balwyn, VIC', 'Location_Banksia, NSW', 'Location_Bankstown, NSW', 'Location_Banyo, QLD', 'Location_Baringa, QLD', 'Location_Bass Hill, NSW', 'Location_Bassendean, WA', 'Location_Batemans Bay, NSW', 'Location_Bathurst, NSW', 'Location_Bayswater, VIC', 'Location_Bayswater, WA', 'Location_Beaconsfield, WA', 'Location_Beaudesert, QLD', 'Location_Bega, NSW', 'Location_Belconnen, ACT', 'Location_Bellevue, WA', 'Location_Bells Creek, QLD', 'Location_Belmont, NSW', 'Location_Belmont, VIC', 'Location_Belmore, NSW', 'Location_Bendigo, VIC', 'Location_Bennetts Green, NSW', 'Location_Bentleigh East, VIC', 'Location_Bentleigh, VIC', 'Location_Bentley, WA', 'Location_Beresfield, NSW', 'Location_Beresford, WA', 'Location_Berrimah, NT', 'Location_Berwick, VIC', 'Location_Beverley, SA', 'Location_Bibra Lake, WA', 'Location_Biggera Waters, QLD', 'Location_Biloela, QLD', 'Location_Blackburn, VIC', 'Location_Blacktown, NSW', 'Location_Blair Athol, SA', 'Location_Boolaroo, NSW', 'Location_Boronia, VIC', 'Location_Bowden, SA', 'Location_Bowral, NSW', 'Location_Braeside, VIC', 'Location_Branxton, NSW', 'Location_Braybrook, VIC', 'Location_Brendale, QLD', 'Location_Briar Hill, VIC', 'Location_Bridgewater, SA', 'Location_Brighton, SA', 'Location_Brighton, VIC', 'Location_Brisbane, QLD', 'Location_Broadmeadow, NSW', 'Location_Brooklyn, VIC', 'Location_Brookvale, NSW', 'Location_Brown Hill, VIC', 'Location_Browns Plains, QLD', 'Location_Buderim, QLD', 'Location_Bunbury, WA', 'Location_Bundaberg North, QLD', 'Location_Bundaberg West, QLD', 'Location_Bundaberg, QLD', 'Location_Bundamba, QLD', 'Location_Bundoora, VIC', 'Location_Bungalow, QLD', 'Location_Burleigh Heads, QLD', 'Location_Burswood, WA', 'Location_Burwood, NSW', 'Location_Burwood, VIC', 'Location_Busselton, WA', 'Location_CAMBERWELL, VIC', 'Location_Caboolture, QLD', 'Location_Cabramatta, NSW', 'Location_Cairns City, QLD', 'Location_Cairns, QLD', 'Location_Caloundra West, QLD', 'Location_Camdale, TAS', 'Location_Camden, NSW', 'Location_Camira, QLD', 'Location_Campbellfield, VIC', 'Location_Campbelltown, NSW', 'Location_Campsie, NSW', 'Location_Canning Vale, WA', 'Location_Cannington, WA', 'Location_Capalaba, QLD', 'Location_Carbrook, QLD', 'Location_Cardiff, NSW', 'Location_Caringbah, NSW', 'Location_Carlton, NSW', 'Location_Caroline Springs, VIC', 'Location_Carrum Downs, VIC', 'Location_Carss Park, NSW', 'Location_Casino, NSW', 'Location_Castle Hill, NSW', 'Location_Cessnock, NSW', 'Location_Chatswood, NSW', 'Location_Cheltenham, SA', 'Location_Cheltenham, VIC', 'Location_Chermside South, QLD', 'Location_Chermside, QLD', 'Location_Chester Hill, NSW', 'Location_Chinchilla, QLD', 'Location_Chipping Norton, NSW', 'Location_Christies Beach, SA', 'Location_Chullora, NSW', 'Location_Clare, SA', 'Location_Clarkson, WA', 'Location_Clayton South, VIC', 'Location_Cleveland, QLD', 'Location_Clontarf, QLD', 'Location_Clyde, NSW', 'Location_Coburg North, VIC', 'Location_Coburg, VIC', 'Location_Coffs Harbour, NSW', 'Location_Colac West, VIC', 'Location_Collie, WA', 'Location_Como, WA', 'Location_Concord, NSW', 'Location_Condell Park, NSW', 'Location_Coolum Beach, QLD', 'Location_Coomera, QLD', 'Location_Coopers Plains, QLD', 'Location_Coorparoo, QLD', 'Location_Corio, VIC', 'Location_Craigie, WA', 'Location_Cranbourne, VIC', 'Location_Crookwell, NSW', 'Location_Croydon, NSW', 'Location_Croydon, VIC', 'Location_Currimundi, QLD', 'Location_Currumbin Waters, QLD', 'Location_DONCASTER, VIC', 'Location_Dandenong South, VIC', 'Location_Dandenong, VIC', 'Location_Dapto, NSW', 'Location_Darlinghurst, NSW', 'Location_Darlington, SA', 'Location_Darwin, NT', 'Location_Deer Park, VIC', 'Location_Delacombe, VIC', 'Location_Derrimut, VIC', 'Location_Derwent Park, TAS', 'Location_Devonport, TAS', 'Location_Dianella, WA', 'Location_Dingley Village, VIC', 'Location_Dinmore, QLD', 'Location_Doncaster, VIC', 'Location_Dudley Park, WA', 'Location_EPPING, VIC', 'Location_Eagle Farm, QLD', 'Location_Earlville, QLD', 'Location_East Bunbury, WA', 'Location_East Maitland, NSW', 'Location_East Toowoomba, QLD', 'Location_East Victoria Park, WA', 'Location_Eastern Creek, NSW', 'Location_Echuca, VIC', 'Location_Edgewater, WA', 'Location_Edgeworth, NSW', 'Location_Edwardstown, SA', 'Location_Eight Mile Plains, QLD', 'Location_Elderslie, NSW', 'Location_Elizabeth, SA', 'Location_Elsternwick, VIC', 'Location_Emerald, QLD', 'Location_Enfield, SA', 'Location_Epping, VIC', 'Location_Epsom, VIC', 'Location_Erina, NSW', 'Location_Ermington, NSW', 'Location_Essendon Fields, VIC', 'Location_Essendon, VIC', 'Location_Everton Hills, QLD', 'Location_FAWKNER, VIC', 'Location_Fairfield East, NSW', 'Location_Fairfield, VIC', 'Location_Fawkner, VIC', 'Location_Ferntree Gully, VIC', 'Location_Five Dock, NSW', 'Location_Footscray, VIC', 'Location_Forbes, NSW', 'Location_Fortitude Valley, QLD', 'Location_Frankston, VIC', 'Location_Fullarton, SA', 'Location_Fyshwick, ACT', 'Location_Garbutt, QLD', 'Location_Gateshead, NSW', 'Location_Gatton, QLD', 'Location_Gawler South, SA', 'Location_Geebung, QLD', 'Location_Geelong West, VIC', 'Location_Geelong, VIC', 'Location_Gepps Cross, SA', 'Location_Geraldton, WA', 'Location_Gilles Plains, SA', 'Location_Gladstone, QLD', 'Location_Glebe, NSW', 'Location_Glendale, NSW', 'Location_Glenelg, SA', 'Location_Glenorchy, TAS', 'Location_Glenroy, VIC', 'Location_Golden Square, VIC', 'Location_Goodwood, SA', 'Location_Goolwa, SA', 'Location_Gosford, NSW', 'Location_Gosnells, WA', 'Location_Goulburn, NSW', 'Location_Granville, NSW', 'Location_Greenacre, NSW', 'Location_Greenslopes, QLD', 'Location_Greenway, ACT', 'Location_Greystanes, NSW', 'Location_Gulfview Heights, SA', 'Location_Gungahlin, ACT', 'Location_Gympie, QLD', 'Location_HEIDELBERG, VIC', 'Location_Haberfield, NSW', 'Location_Hallam, VIC', 'Location_Hamilton East, NSW', 'Location_Hamilton Hill, WA', 'Location_Hamilton North, NSW', 'Location_Hamilton, NSW', 'Location_Hamilton, QLD', 'Location_Hampstead Gardens, SA', 'Location_Harrington, NSW', 'Location_Harvey, WA', 'Location_Hastings, VIC', 'Location_Hawthorn, SA', 'Location_Heatherbrae, NSW', 'Location_Helensvale, QLD', 'Location_Hendra, QLD', 'Location_Hermit Park, QLD', 'Location_Hillcrest, QLD', 'Location_Hillcrest, SA', 'Location_Hindmarsh, SA', 'Location_Hobart, TAS', 'Location_Holbrook, NSW', 'Location_Holland Park West, QLD', 'Location_Homebush West, NSW', 'Location_Homebush, NSW', 'Location_Hoppers Crossing, VIC', 'Location_Horsham, VIC', 'Location_Hume, ACT', 'Location_Huntingdale, VIC', 'Location_Hyde Park, QLD', 'Location_Hyde Park, SA', 'Location_Indooroopilly, QLD', 'Location_Ingle Farm, SA', 'Location_Ingleburn, NSW', 'Location_Inverell, NSW', 'Location_Invermay, TAS', 'Location_Ipswich, QLD', 'Location_Islington, NSW', 'Location_Jamisontown, NSW', 'Location_Jandakot, WA', 'Location_KINGSLEY, WA', 'Location_Kedron, QLD', 'Location_Keilor East, VIC', 'Location_Kellyville, NSW', 'Location_Kelmscott, WA', 'Location_Kelso, NSW', 'Location_Kelvin Grove, QLD', 'Location_Kensington, QLD', 'Location_Kenwick, WA', 'Location_Keysborough, VIC', 'Location_Kings Park, NSW', 'Location_Kirrawee, NSW', 'Location_Klemzig, SA', 'Location_Kogarah, NSW', 'Location_Kunda Park, QLD', 'Location_Kurri Kurri, NSW', 'Location_Kyabram, VIC', 'Location_LOXTON, SA', 'Location_Labrador, QLD', 'Location_Lambton, NSW', 'Location_Lansvale, NSW', 'Location_Launceston, TAS', 'Location_Laverton North, VIC', 'Location_Lavington, NSW', 'Location_Lawnton, QLD', 'Location_Leichhardt, NSW', 'Location_Leumeah, NSW', 'Location_Lidcombe, NSW', 'Location_Lilydale, VIC', 'Location_Lindfield, NSW', 'Location_Lisarow, NSW', 'Location_Lismore, NSW', 'Location_Lithgow, NSW', 'Location_Liverpool, NSW', 'Location_Loftville, NSW', 'Location_Loganholme, QLD', 'Location_Lonsdale, SA', 'Location_Loxton, SA', 'Location_Lyndhurst, VIC', 'Location_MELBOURNE, VIC', 'Location_Mackay, QLD', 'Location_Macksville, NSW', 'Location_Maddington, WA', 'Location_Maidstone, VIC', 'Location_Maitland, NSW', 'Location_Mandurah, WA', 'Location_Mansfield, QLD', 'Location_Maroochydore, QLD', 'Location_Maryville, NSW', 'Location_Mascot, NSW', 'Location_Mayfield West, NSW', 'Location_Mayfield, NSW', 'Location_Maylands, WA', 'Location_McDougalls Hill, NSW', 'Location_Mcgraths Hill, NSW', 'Location_Medindie Gardens, SA', 'Location_Medindie, SA', 'Location_Medlow Bath, NSW', 'Location_Melbourne, VIC', 'Location_Melrose Park, SA', 'Location_Melton, VIC', 'Location_Melville, WA', 'Location_Mentone, VIC', 'Location_Merrylands, NSW', 'Location_Midland, WA', 'Location_Mildura, VIC', 'Location_Mile End South, SA', 'Location_Mile End, SA', 'Location_Mill Park, VIC', 'Location_Milperra, NSW', 'Location_Minchinbury, NSW', 'Location_Minto, NSW', 'Location_Mitcham, VIC', 'Location_Mittagong, NSW', 'Location_Moffat Beach, QLD', 'Location_Molendinar, QLD', 'Location_Monterey, NSW', 'Location_Mooloolaba, QLD', 'Location_Moonah, TAS', 'Location_Moorabbin, VIC', 'Location_Moorebank, NSW', 'Location_Moorooka, QLD', 'Location_Morayfield, QLD', 'Location_Mordialloc, VIC', 'Location_Morley, WA', 'Location_Morningside, QLD', 'Location_Mornington, VIC', 'Location_Morphett Vale, SA', 'Location_Moruya, NSW', 'Location_Morwell, VIC', 'Location_Mosman, NSW', 'Location_Moss Vale, NSW', 'Location_Mount Barker, SA', 'Location_Mount Druitt, NSW', 'Location_Mount Gambier, SA', 'Location_Mount Gravatt, QLD', 'Location_Mount Lawley, WA', 'Location_Mount Louisa, QLD', 'Location_Mount Pleasant, VIC', 'Location_Mudgeeraba, QLD', 'Location_Mulgrave, VIC', 'Location_Murarrie, QLD', 'Location_Murray Bridge, SA', 'Location_Murrumbeena, VIC', 'Location_Muswellbrook, NSW', 'Location_Myaree, WA', 'Location_Nailsworth, SA', 'Location_Nambour, QLD', 'Location_Narellan, NSW', 'Location_Narre Warren, VIC', 'Location_Nedlands, WA', 'Location_Nerang, QLD', 'Location_New Lambton, NSW', 'Location_New Town, TAS', 'Location_Newcastle West, NSW', 'Location_Newton, SA', 'Location_Newtown, VIC', 'Location_Ningi, QLD', 'Location_Noosaville, QLD', 'Location_North Geelong, VIC', 'Location_North Hobart, TAS', 'Location_North Ipswich, QLD', 'Location_North Lakes, QLD', 'Location_North Narrabeen, NSW', 'Location_North Rockhampton, QLD', 'Location_North Strathfield, NSW', 'Location_North Wollongong, NSW', 'Location_Northbridge, WA', 'Location_Northgate, QLD', 'Location_Norwood, SA', 'Location_Nowra, NSW', 'Location_Nunawading, VIC', 'Location_Nundah, QLD', 'Location_Nuriootpa, SA', 'Location_Oak Flats, NSW', 'Location_Oakleigh South, VIC', 'Location_Oakleigh, VIC', 'Location_Officer, VIC', 'Location_Orange, NSW', 'Location_Osborne Park, WA', 'Location_Padstow, NSW', 'Location_Pakenham, VIC', 'Location_Palmyra, WA', 'Location_Para Hills West, SA', 'Location_Parap, NT', 'Location_Park Holme, SA', 'Location_Parkdale, VIC', 'Location_Parramatta Park, QLD', 'Location_Peakhurst, NSW', 'Location_Pendle Hill, NSW', 'Location_Pennant Hills, NSW', 'Location_Penrith, NSW', 'Location_Perth, WA', 'Location_Petersham, NSW', 'Location_Phillip, ACT', 'Location_Pialba, QLD', 'Location_Pinelands, NT', 'Location_Pinkenba, QLD', 'Location_Plympton Park, SA', 'Location_Plympton, SA', 'Location_Point Cook, VIC', 'Location_Pooraka, SA', 'Location_Port Augusta, SA', 'Location_Port Macquarie, NSW', 'Location_Port Melbourne, VIC', 'Location_Preston, VIC', 'Location_Prospect, SA', 'Location_Punchbowl, NSW', 'Location_Ravenhall, VIC', 'Location_Raymond Terrace, NSW', 'Location_Redcliffe, QLD', 'Location_Regents Park, NSW', 'Location_Reservoir, VIC', 'Location_Revesby, NSW', 'Location_Reynella, SA', 'Location_Richmond, NSW', 'Location_Ringwood, VIC', 'Location_Robina, QLD', 'Location_Rockingham, WA', 'Location_Rocklea, QLD', 'Location_Roselands, NSW', 'Location_Rosemount, QLD', 'Location_Roseville, NSW', 'Location_Rosewater, SA', 'Location_Rouse Hill, NSW', 'Location_Roxburgh Park, VIC', 'Location_Rozelle, NSW', 'Location_Rushcutters Bay, NSW', 'Location_Rutherford, NSW', 'Location_Rydalmere, NSW', 'Location_Ryde, NSW', 'Location_SOUTH MELBOURNE, VIC', 'Location_SOUTH MORANG, VIC', 'Location_Saint James, WA', 'Location_Saint Marys, NSW', 'Location_Saint Marys, SA', 'Location_Sale, VIC', 'Location_Salisbury Park, SA', 'Location_Salisbury, SA', 'Location_Sandgate, NSW', 'Location_Seaford, SA', 'Location_Seaford, VIC', 'Location_Sebastopol, VIC', 'Location_Seven Hills, NSW', 'Location_Seventeen Mile Rocks, QLD', 'Location_Seymour, VIC', 'Location_Shepparton, VIC', 'Location_Silverwater, NSW', 'Location_Singleton, NSW', 'Location_Sippy Downs, QLD', 'Location_Slacks Creek, QLD', 'Location_Smeaton Grange, NSW', 'Location_Smithfield, NSW', 'Location_Somerton Park, SA', 'Location_South Bunbury, WA', 'Location_South Burnie, TAS', 'Location_South Geelong, VIC', 'Location_South Grafton, NSW', 'Location_South Hurstville, NSW', 'Location_South Melbourne, VIC', 'Location_South Morang, VIC', 'Location_South Nowra, NSW', 'Location_South Tamworth, NSW', 'Location_South Toowoomba, QLD', 'Location_South Windsor, NSW', 'Location_Southbank, VIC', 'Location_Southport, QLD', 'Location_Springvale, VIC', 'Location_Springwood, QLD', 'Location_St Albans, VIC', 'Location_St Marys, SA', 'Location_Stafford, QLD', 'Location_Stanmore, NSW', 'Location_Stanthorpe, QLD', 'Location_Strathalbyn, SA', 'Location_Strathfield, NSW', 'Location_Strathpine, QLD', 'Location_Stuart Park, NT', 'Location_Sumner, QLD', 'Location_Sunbury, VIC', 'Location_Sunnybank Hills, QLD', 'Location_Sunshine North, VIC', 'Location_Sutherland, NSW', 'Location_Swan Hill, VIC', 'Location_Sydney, NSW', 'Location_Sylvania, NSW', 'Location_Taree, NSW', 'Location_Taren Point, NSW', 'Location_Taylors Beach, NSW', 'Location_Thebarton, SA', 'Location_Thomastown, VIC', 'Location_Thornbury, VIC', 'Location_Thornlands, QLD', 'Location_Thornleigh, NSW', 'Location_Tingalpa, QLD', 'Location_Toowoomba City, QLD', 'Location_Toowoomba, QLD', 'Location_Torrensville, SA', 'Location_Totness, SA', 'Location_Townsville, QLD', 'Location_Traralgon, VIC', 'Location_Truganina, VIC', 'Location_Tuggerah, NSW', 'Location_Tugun, QLD', 'Location_Tullamarine, VIC', 'Location_Tuncurry, NSW', 'Location_Tweed Heads South, NSW', 'Location_Tweed Heads, NSW', 'Location_Tyabb, VIC', 'Location_Ulladulla, NSW', 'Location_Underwood, QLD', 'Location_Upper Ferntree Gully, VIC', 'Location_Valley View, SA', 'Location_Vermont, VIC', 'Location_Victor Harbor, SA', 'Location_Victoria Park, WA', 'Location_Virginia, QLD', 'Location_Wacol, QLD', 'Location_Wagga Wagga, NSW', 'Location_Wagin, WA', 'Location_Waitara, NSW', 'Location_Walcha, NSW', 'Location_Walla Walla, NSW', 'Location_Wangara, WA', 'Location_Wangaratta, VIC', 'Location_Wantirna, VIC', 'Location_Waratah, NSW', 'Location_Warners Bay, NSW', 'Location_Warragul, VIC', 'Location_Warrenheip, AU-VIC', 'Location_Warrnambool, VIC', 'Location_Warwick Farm, NSW', 'Location_Waterloo, NSW', 'Location_Watsonia, VIC', 'Location_Wauchope, NSW', 'Location_Wayville, SA', 'Location_Webberton, WA', 'Location_Wellington, NSW', 'Location_Welshpool, WA', 'Location_Wendouree, VIC', 'Location_Wentworthville, NSW', 'Location_Werribee, VIC', 'Location_West Ballina, NSW', 'Location_West Croydon, SA', 'Location_West End, QLD', 'Location_West Footscray, VIC', 'Location_West Gladstone, QLD', 'Location_West Gosford, NSW', 'Location_West Lakes, SA', 'Location_West Perth, WA', 'Location_West Ryde, NSW', 'Location_West Tamworth, NSW', 'Location_Westcourt, QLD', 'Location_Wickham, NSW', 'Location_Williamstown North, VIC', 'Location_Williamstown, VIC', 'Location_Wilston, QLD', 'Location_Windang, NSW', 'Location_Windsor Gardens, SA', 'Location_Windsor, NSW', 'Location_Windsor, QLD', 'Location_Winnellie, NT', 'Location_Wodonga, VIC', 'Location_Wollongong, NSW', 'Location_Wongan Hills, WA', 'Location_Wonthella, WA', 'Location_Woodridge, QLD', 'Location_Woodville, SA', 'Location_Woongoolba, QLD', 'Location_Yagoona, NSW', 'Location_Yallah, NSW', 'Location_Yamanto, QLD', 'Location_Yarraville, VIC', 'Location_Yass, NSW', 'Location_Yatala, QLD', 'Location_Youngtown, TAS', 'Location_Zetland, NSW', 'BodyType_Convertible', 'BodyType_Coupe', 'BodyType_Hatchback', 'BodyType_Other', 'BodyType_People Mover', 'BodyType_SUV', 'BodyType_Sedan', 'BodyType_Ute / Tray', 'BodyType_Wagon', 'DriveType_AWD', 'DriveType_Front', 'DriveType_Other', 'DriveType_Rear', 'FuelType_Diesel', 'FuelType_Electric', 'FuelType_Hybrid', 'FuelType_LPG', 'FuelType_Leaded', 'FuelType_Other', 'FuelType_Premium', 'FuelType_Unleaded']\n"
     ]
    }
   ],
   "execution_count": 710
  },
  {
   "metadata": {
    "ExecuteTime": {
     "end_time": "2025-06-19T12:29:50.475582Z",
     "start_time": "2025-06-19T12:29:50.473788Z"
    }
   },
   "cell_type": "code",
   "source": [
    "# Final check for any non-numeric columns in X\n",
    "# This should now ideally show no non-numeric columns\n",
    "non_numeric_cols_in_X = X.select_dtypes(include=['object', 'category']).columns\n",
    "if len(non_numeric_cols_in_X) > 0:\n",
    "    print(f\"\\nWARNING: Non-numeric columns still found in X (After all processing): {non_numeric_cols_in_X.tolist()}\")\n",
    "else:\n",
    "    print(\"\\nAll features in X are numeric. Good to proceed with modeling!\")\n"
   ],
   "id": "e5ae00a057b82a48",
   "outputs": [
    {
     "name": "stdout",
     "output_type": "stream",
     "text": [
      "\n",
      "All features in X are numeric. Good to proceed with modeling!\n"
     ]
    }
   ],
   "execution_count": 711
  },
  {
   "metadata": {
    "ExecuteTime": {
     "end_time": "2025-06-19T12:29:50.715628Z",
     "start_time": "2025-06-19T12:29:50.504216Z"
    }
   },
   "cell_type": "code",
   "source": [
    "# Train-test split\n",
    "X_train, X_test, y_train, y_test = train_test_split(X, y, test_size=0.2, random_state=42)\n",
    "\n",
    "# Scale the data\n",
    "scaler = StandardScaler()\n",
    "X_train_scaled = scaler.fit_transform(X_train)\n",
    "X_test_scaled = scaler.transform(X_test)\n"
   ],
   "id": "e63289f7f3339859",
   "outputs": [],
   "execution_count": 712
  },
  {
   "metadata": {
    "ExecuteTime": {
     "end_time": "2025-06-19T12:30:00.532814Z",
     "start_time": "2025-06-19T12:29:50.745991Z"
    }
   },
   "cell_type": "code",
   "source": [
    "# --- Save the scaler ---\n",
    "joblib.dump(scaler, 'scaler.joblib')\n",
    "print(\"  Scaler saved as 'scaler.joblib'.\")\n",
    "\n",
    "\n",
    "# Feature selection\n",
    "selector = SelectFromModel(RandomForestRegressor(n_estimators=50, random_state=42), max_features=100)\n",
    "selector.fit(X_train_scaled, y_train)\n",
    "X_train_selected = selector.transform(X_train_scaled)\n",
    "X_test_selected = selector.transform(X_test_scaled) # Get the names of the selected features\n",
    "selected_feature_indices = selector.get_support(indices=True)\n",
    "selected_feature_names = X.columns[selected_feature_indices].tolist()\n",
    "\n",
    "# --- Save the selected feature names ---\n",
    "joblib.dump(selected_feature_names, 'selected_features.joblib')\n",
    "print(\"  Selected feature names saved as 'selected_features.joblib'.\")"
   ],
   "id": "c9d97fc13be6611a",
   "outputs": [
    {
     "name": "stdout",
     "output_type": "stream",
     "text": [
      "  Scaler saved as 'scaler.joblib'.\n",
      "  Selected feature names saved as 'selected_features.joblib'.\n"
     ]
    }
   ],
   "execution_count": 713
  },
  {
   "metadata": {
    "ExecuteTime": {
     "end_time": "2025-06-19T12:30:00.570407Z",
     "start_time": "2025-06-19T12:30:00.562076Z"
    }
   },
   "cell_type": "code",
   "source": [
    "# Get the names of the selected features\n",
    "selected_feature_indices = selector.get_support(indices=True)\n",
    "selected_feature_names = X.columns[selected_feature_indices].tolist()"
   ],
   "id": "cadd597459ed4ffb",
   "outputs": [],
   "execution_count": 714
  },
  {
   "metadata": {
    "ExecuteTime": {
     "end_time": "2025-06-19T12:30:00.600957Z",
     "start_time": "2025-06-19T12:30:00.599180Z"
    }
   },
   "cell_type": "code",
   "source": [
    "print(f\"\\n--- Number of Selected Features: {X_train_selected.shape[1]} ---\")\n",
    "# Print shapes\n",
    "print(\"\\n--- Training and Testing Data Split Shapes ---\")\n",
    "print(\"X_train shape:\", X_train_selected.shape)\n",
    "print(\"X_test shape:\", X_test_selected.shape)\n",
    "print(\"y_train shape:\", y_train.shape)\n",
    "print(\"y_test shape:\", y_test.shape)"
   ],
   "id": "cd03a91f32411d16",
   "outputs": [
    {
     "name": "stdout",
     "output_type": "stream",
     "text": [
      "\n",
      "--- Number of Selected Features: 77 ---\n",
      "\n",
      "--- Training and Testing Data Split Shapes ---\n",
      "X_train shape: (13344, 77)\n",
      "X_test shape: (3337, 77)\n",
      "y_train shape: (13344,)\n",
      "y_test shape: (3337,)\n"
     ]
    }
   ],
   "execution_count": 715
  },
  {
   "metadata": {
    "ExecuteTime": {
     "end_time": "2025-06-19T12:30:00.631134Z",
     "start_time": "2025-06-19T12:30:00.629248Z"
    }
   },
   "cell_type": "code",
   "source": [
    "# --- Implementing XGBoost for Car Price Prediction ---\n",
    "print(\"\\n--- Implementing and Tuning XGBoost Regression Model ---\")\n",
    "\n",
    "# Define parameter distribution for RandomizedSearchCV for XGBoost\n",
    "param_dist_xgb = {\n",
    "    'n_estimators': [100, 200, 300, 500],\n",
    "    'max_depth': [3, 5, 7, 9],\n",
    "    'learning_rate': [0.01, 0.05, 0.1, 0.2],\n",
    "    'subsample': [0.6, 0.8, 1.0],\n",
    "    'colsample_bytree': [0.6, 0.8, 1.0],\n",
    "    'gamma': [0, 0.1, 0.2, 0.5], # Minimum loss reduction required to make a further partition on a leaf node of the tree\n",
    "    'reg_alpha': [0, 0.001, 0.01, 0.1, 1], # L1 regularization term on weights\n",
    "    'reg_lambda': [0, 0.001, 0.01, 0.1, 1] # L2 regularization term on weights\n",
    "}\n"
   ],
   "id": "3211b43233028d6a",
   "outputs": [
    {
     "name": "stdout",
     "output_type": "stream",
     "text": [
      "\n",
      "--- Implementing and Tuning XGBoost Regression Model ---\n"
     ]
    }
   ],
   "execution_count": 716
  },
  {
   "metadata": {
    "ExecuteTime": {
     "end_time": "2025-06-19T12:30:14.653966Z",
     "start_time": "2025-06-19T12:30:00.658696Z"
    }
   },
   "cell_type": "code",
   "source": [
    "# Instantiate RandomizedSearchCV\n",
    "random_search_xgb = RandomizedSearchCV(\n",
    "    estimator=xgb.XGBRegressor(random_state=42, tree_method='hist', enable_categorical=False), # Use 'hist' for faster training, disable_categorical since we already one-hot encoded\n",
    "    param_distributions=param_dist_xgb,\n",
    "    n_iter=50, # Number of parameter settings that are sampled. More is better but takes longer.\n",
    "    cv=5, # 5-fold cross-validation\n",
    "    scoring='neg_mean_squared_error', # For regression, use negative MSE\n",
    "    verbose=1,\n",
    "    random_state=42,\n",
    "    n_jobs=-1 # Use all available cores\n",
    ")\n",
    "\n",
    "print(\"\\n--- Starting RandomizedSearchCV for XGBoost ---\")\n",
    "# Fit RandomizedSearchCV on the training data with selected features\n",
    "random_search_xgb.fit(X_train_selected, y_train)\n",
    "\n",
    "print(\"\\n--- RandomizedSearchCV for XGBoost Complete ---\")\n",
    "\n",
    "# Get the best parameters and best score\n",
    "best_params_xgb = random_search_xgb.best_params_\n",
    "best_score_xgb = np.sqrt(-random_search_xgb.best_score_) # Convert negative MSE back to RMSE\n",
    "\n",
    "print(f\"\\nBest Parameters for XGBoost: {best_params_xgb}\")\n",
    "print(f\"Best Cross-Validation RMSE for XGBoost: {best_score_xgb:.2f}\")\n",
    "\n",
    "# Retrieve the best estimator\n",
    "best_xgb_model = random_search_xgb.best_estimator_\n",
    "\n",
    "# Evaluate the best model on the test set\n",
    "y_pred_best_xgb = best_xgb_model.predict(X_test_selected) # This is the correct variable to use\n",
    "rmse_best_xgb = np.sqrt(mean_squared_error(y_test, y_pred_best_xgb))\n",
    "r2_best_xgb = r2_score(y_test, y_pred_best_xgb)\n",
    "\n",
    "print(f\"\\n--- Best XGBoost Model Performance on Test Set (after Tuning) ---\")\n",
    "print(f\"Root Mean Squared Error (RMSE): {rmse_best_xgb:.2f}\")\n",
    "print(f\"R-squared (R2 Score): {r2_best_xgb:.4f}\")\n",
    "\n",
    "# --- Save the best performing XGBoost model ---\n",
    "print(\"\\n--- Saving the Best Tuned XGBoost Model ---\")\n",
    "joblib.dump(best_xgb_model, 'tuned_xgboost_car_price_model_selected_features.pkl')\n",
    "print(\"  Tuned XGBoost model saved as 'tuned_xgboost_car_price_model_selected_features.pkl'.\")"
   ],
   "id": "59db885aeb7f3ac8",
   "outputs": [
    {
     "name": "stdout",
     "output_type": "stream",
     "text": [
      "\n",
      "--- Starting RandomizedSearchCV for XGBoost ---\n",
      "Fitting 5 folds for each of 50 candidates, totalling 250 fits\n"
     ]
    },
    {
     "name": "stderr",
     "output_type": "stream",
     "text": [
      "/opt/homebrew/Cellar/python@3.13/3.13.3_1/Frameworks/Python.framework/Versions/3.13/lib/python3.13/multiprocessing/queues.py:120: UserWarning: pkg_resources is deprecated as an API. See https://setuptools.pypa.io/en/latest/pkg_resources.html. The pkg_resources package is slated for removal as early as 2025-11-30. Refrain from using this package or pin to Setuptools<81.\n",
      "  return _ForkingPickler.loads(res)\n",
      "/opt/homebrew/Cellar/python@3.13/3.13.3_1/Frameworks/Python.framework/Versions/3.13/lib/python3.13/multiprocessing/queues.py:120: UserWarning: pkg_resources is deprecated as an API. See https://setuptools.pypa.io/en/latest/pkg_resources.html. The pkg_resources package is slated for removal as early as 2025-11-30. Refrain from using this package or pin to Setuptools<81.\n",
      "  return _ForkingPickler.loads(res)\n",
      "/opt/homebrew/Cellar/python@3.13/3.13.3_1/Frameworks/Python.framework/Versions/3.13/lib/python3.13/multiprocessing/queues.py:120: UserWarning: pkg_resources is deprecated as an API. See https://setuptools.pypa.io/en/latest/pkg_resources.html. The pkg_resources package is slated for removal as early as 2025-11-30. Refrain from using this package or pin to Setuptools<81.\n",
      "  return _ForkingPickler.loads(res)\n",
      "/opt/homebrew/Cellar/python@3.13/3.13.3_1/Frameworks/Python.framework/Versions/3.13/lib/python3.13/multiprocessing/queues.py:120: UserWarning: pkg_resources is deprecated as an API. See https://setuptools.pypa.io/en/latest/pkg_resources.html. The pkg_resources package is slated for removal as early as 2025-11-30. Refrain from using this package or pin to Setuptools<81.\n",
      "  return _ForkingPickler.loads(res)\n",
      "/opt/homebrew/Cellar/python@3.13/3.13.3_1/Frameworks/Python.framework/Versions/3.13/lib/python3.13/multiprocessing/queues.py:120: UserWarning: pkg_resources is deprecated as an API. See https://setuptools.pypa.io/en/latest/pkg_resources.html. The pkg_resources package is slated for removal as early as 2025-11-30. Refrain from using this package or pin to Setuptools<81.\n",
      "  return _ForkingPickler.loads(res)\n",
      "/opt/homebrew/Cellar/python@3.13/3.13.3_1/Frameworks/Python.framework/Versions/3.13/lib/python3.13/multiprocessing/queues.py:120: UserWarning: pkg_resources is deprecated as an API. See https://setuptools.pypa.io/en/latest/pkg_resources.html. The pkg_resources package is slated for removal as early as 2025-11-30. Refrain from using this package or pin to Setuptools<81.\n",
      "  return _ForkingPickler.loads(res)\n",
      "/opt/homebrew/Cellar/python@3.13/3.13.3_1/Frameworks/Python.framework/Versions/3.13/lib/python3.13/multiprocessing/queues.py:120: UserWarning: pkg_resources is deprecated as an API. See https://setuptools.pypa.io/en/latest/pkg_resources.html. The pkg_resources package is slated for removal as early as 2025-11-30. Refrain from using this package or pin to Setuptools<81.\n",
      "  return _ForkingPickler.loads(res)\n",
      "/opt/homebrew/Cellar/python@3.13/3.13.3_1/Frameworks/Python.framework/Versions/3.13/lib/python3.13/multiprocessing/queues.py:120: UserWarning: pkg_resources is deprecated as an API. See https://setuptools.pypa.io/en/latest/pkg_resources.html. The pkg_resources package is slated for removal as early as 2025-11-30. Refrain from using this package or pin to Setuptools<81.\n",
      "  return _ForkingPickler.loads(res)\n",
      "/opt/homebrew/Cellar/python@3.13/3.13.3_1/Frameworks/Python.framework/Versions/3.13/lib/python3.13/multiprocessing/queues.py:120: UserWarning: pkg_resources is deprecated as an API. See https://setuptools.pypa.io/en/latest/pkg_resources.html. The pkg_resources package is slated for removal as early as 2025-11-30. Refrain from using this package or pin to Setuptools<81.\n",
      "  return _ForkingPickler.loads(res)\n",
      "/opt/homebrew/Cellar/python@3.13/3.13.3_1/Frameworks/Python.framework/Versions/3.13/lib/python3.13/multiprocessing/queues.py:120: UserWarning: pkg_resources is deprecated as an API. See https://setuptools.pypa.io/en/latest/pkg_resources.html. The pkg_resources package is slated for removal as early as 2025-11-30. Refrain from using this package or pin to Setuptools<81.\n",
      "  return _ForkingPickler.loads(res)\n",
      "/opt/homebrew/Cellar/python@3.13/3.13.3_1/Frameworks/Python.framework/Versions/3.13/lib/python3.13/multiprocessing/queues.py:120: UserWarning: pkg_resources is deprecated as an API. See https://setuptools.pypa.io/en/latest/pkg_resources.html. The pkg_resources package is slated for removal as early as 2025-11-30. Refrain from using this package or pin to Setuptools<81.\n",
      "  return _ForkingPickler.loads(res)\n",
      "/opt/homebrew/Cellar/python@3.13/3.13.3_1/Frameworks/Python.framework/Versions/3.13/lib/python3.13/multiprocessing/queues.py:120: UserWarning: pkg_resources is deprecated as an API. See https://setuptools.pypa.io/en/latest/pkg_resources.html. The pkg_resources package is slated for removal as early as 2025-11-30. Refrain from using this package or pin to Setuptools<81.\n",
      "  return _ForkingPickler.loads(res)\n"
     ]
    },
    {
     "name": "stdout",
     "output_type": "stream",
     "text": [
      "\n",
      "--- RandomizedSearchCV for XGBoost Complete ---\n",
      "\n",
      "Best Parameters for XGBoost: {'subsample': 1.0, 'reg_lambda': 0.001, 'reg_alpha': 1, 'n_estimators': 500, 'max_depth': 3, 'learning_rate': 0.2, 'gamma': 0, 'colsample_bytree': 0.6}\n",
      "Best Cross-Validation RMSE for XGBoost: 17672.94\n",
      "\n",
      "--- Best XGBoost Model Performance on Test Set (after Tuning) ---\n",
      "Root Mean Squared Error (RMSE): 14628.56\n",
      "R-squared (R2 Score): 0.8483\n",
      "\n",
      "--- Saving the Best Tuned XGBoost Model ---\n",
      "  Tuned XGBoost model saved as 'tuned_xgboost_car_price_model_selected_features.pkl'.\n"
     ]
    }
   ],
   "execution_count": 717
  },
  {
   "metadata": {
    "ExecuteTime": {
     "end_time": "2025-06-19T12:30:14.801913Z",
     "start_time": "2025-06-19T12:30:14.689639Z"
    }
   },
   "cell_type": "code",
   "source": [
    "# Plotting actual vs predicted (XGBoost)\n",
    "plt.figure(figsize=(10, 6))\n",
    "sns.scatterplot(x=y_test, y=y_pred_best_xgb, alpha=0.7, color='green') # Corrected variable name here\n",
    "plt.plot([y_test.min(), y_test.max()], [y_test.min(), y_test.max()], 'r--', lw=2, label='Perfect Prediction')\n",
    "plt.xlabel(\"Actual Price ($)\")\n",
    "plt.ylabel(\"Predicted Price ($)\")\n",
    "plt.title(\"Actual vs. Predicted Sales Price (Test Set - XGBoost)\")\n",
    "plt.grid(True)\n",
    "plt.legend()\n",
    "plt.show()\n",
    "\n",
    "sns.histplot(datasetCars['Price'], bins=50)\n",
    "plt.title(\"Distribution of Car Prices\")\n",
    "plt.show()"
   ],
   "id": "c4543b390cbdeac9",
   "outputs": [
    {
     "data": {
      "text/plain": [
       "<Figure size 1000x600 with 1 Axes>"
      ],
      "image/png": "[encoded data removed]"
     },
     "metadata": {},
     "output_type": "display_data"
    },
    {
     "data": {
      "text/plain": [
       "<Figure size 640x480 with 1 Axes>"
      ],
      "image/png": "[encoded data removed]"
     },
     "metadata": {},
     "output_type": "display_data"
    }
   ],
   "execution_count": 718
  },
  {
   "metadata": {
    "ExecuteTime": {
     "end_time": "2025-06-19T12:30:14.908994Z",
     "start_time": "2025-06-19T12:30:14.834742Z"
    }
   },
   "cell_type": "code",
   "source": [
    "# Feature importance from XGBoost\n",
    "xgb_model = random_search_xgb.best_estimator_\n",
    "\n",
    "# Extract feature importances\n",
    "feature_importances = xgb_model.get_booster().get_score(importance_type='weight')\n",
    "\n",
    "# Map feature indices to names using the 'selected_feature_names'\n",
    "# The feature names in feature_importances are 'f0', 'f1', 'f2', etc.\n",
    "mapped_importances = []\n",
    "for f_idx_str, score in feature_importances.items():\n",
    "    f_idx = int(f_idx_str.replace('f', ''))\n",
    "    if f_idx < len(selected_feature_names):\n",
    "        mapped_importances.append((selected_feature_names[f_idx], score))\n",
    "\n",
    "# Sort by importance\n",
    "mapped_importances = sorted(mapped_importances, key=lambda x: x[1], reverse=True)[:20]\n",
    "\n",
    "# Create custom bar plot\n",
    "fig, ax = plt.subplots(figsize=(8, 6))\n",
    "features, scores = zip(*mapped_importances)\n",
    "y_pos = np.arange(len(features))\n",
    "ax.barh(y_pos, scores, align='center')\n",
    "ax.set_yticks(y_pos)\n",
    "ax.set_yticklabels(features)\n",
    "ax.invert_yaxis()  # Highest importance at the top\n",
    "ax.set_xlabel('Importance Score (Weight)')\n",
    "plt.title('Top 20 Feature Importance from XGBoost') # Changed title to be more specific\n",
    "plt.tight_layout()\n",
    "plt.show()\n",
    "\n",
    "# Print top 20 feature importances\n",
    "print(\"\\n--- Top 20 Feature Importances ---\")\n",
    "for name, score in mapped_importances:\n",
    "    print(f\"{name}: {score}\")\n"
   ],
   "id": "6e8078d2b88ef9e",
   "outputs": [
    {
     "data": {
      "text/plain": [
       "<Figure size 800x600 with 1 Axes>"
      ],
      "image/png": "[encoded data removed]"
     },
     "metadata": {},
     "output_type": "display_data"
    },
    {
     "name": "stdout",
     "output_type": "stream",
     "text": [
      "\n",
      "--- Top 20 Feature Importances ---\n",
      "Kilometres: 428.0\n",
      "Year: 367.0\n",
      "Engine_Liters: 332.0\n",
      "FuelConsumption: 330.0\n",
      "CylindersinEngine: 127.0\n",
      "Seats: 92.0\n",
      "Doors: 74.0\n",
      "Model_Other_Model: 66.0\n",
      "UsedOrNew_USED: 50.0\n",
      "Brand_Mercedes-Benz: 48.0\n",
      "Transmission_Automatic: 46.0\n",
      "BodyType_SUV: 46.0\n",
      "Brand_Land: 45.0\n",
      "DriveType_Front: 44.0\n",
      "DriveType_AWD: 43.0\n",
      "Engine_Cylinders: 42.0\n",
      "BodyType_Coupe: 41.0\n",
      "Brand_BMW: 39.0\n",
      "FuelType_Diesel: 39.0\n",
      "Brand_Toyota: 38.0\n"
     ]
    }
   ],
   "execution_count": 719
  },
  {
   "metadata": {
    "ExecuteTime": {
     "end_time": "2025-06-19T12:30:14.952755Z",
     "start_time": "2025-06-19T12:30:14.937993Z"
    }
   },
   "cell_type": "code",
   "source": [
    "# --- Save the trained pipeline ---\n",
    "joblib.dump(xgb_model, 'car_price_model.joblib')\n",
    "print(\"\\nModel pipeline saved as 'car_price_model.joblib'\")\n",
    "\n",
    "# Also, save the list of original column names used for training, this is crucial\n",
    "# for creating the input DataFrame in the app.\n",
    "original_training_cols = X.columns.tolist()\n",
    "joblib.dump(original_training_cols, 'original_training_cols.joblib')\n",
    "print(\"Original training column names saved.\")"
   ],
   "id": "1ea89b3efed21358",
   "outputs": [
    {
     "name": "stdout",
     "output_type": "stream",
     "text": [
      "\n",
      "Model pipeline saved as 'car_price_model.joblib'\n",
      "Original training column names saved.\n"
     ]
    }
   ],
   "execution_count": 720
  }
 ],
 "metadata": {
  "kernelspec": {
   "display_name": "Python 3",
   "language": "python",
   "name": "python3"
  },
  "language_info": {
   "codemirror_mode": {
    "name": "ipython",
    "version": 2
   },
   "file_extension": ".py",
   "mimetype": "text/x-python",
   "name": "python",
   "nbconvert_exporter": "python",
   "pygments_lexer": "ipython2",
   "version": "2.7.6"
  }
 },
 "nbformat": 4,
 "nbformat_minor": 5
}
